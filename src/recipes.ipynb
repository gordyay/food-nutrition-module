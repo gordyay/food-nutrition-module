{
 "cells": [
  {
   "cell_type": "markdown",
   "id": "6cf177d6",
   "metadata": {},
   "source": [
    "# Import"
   ]
  },
  {
   "cell_type": "code",
   "execution_count": 1,
   "id": "f166f715",
   "metadata": {},
   "outputs": [],
   "source": [
    "data_path='data/'\n",
    "api_key='ehlVSIKSMiugJZHlii3sU7OKCexe4MIlnYenGric'\n",
    "import pandas as pd \n",
    "import numpy as np\n",
    "import warnings\n",
    "from sklearn.exceptions import UndefinedMetricWarning\n",
    "\n",
    "warnings.filterwarnings(\"ignore\", category=UndefinedMetricWarning)"
   ]
  },
  {
   "cell_type": "markdown",
   "id": "0ebdaf62",
   "metadata": {},
   "source": [
    "# Analysis"
   ]
  },
  {
   "cell_type": "markdown",
   "id": "cfd70e2d",
   "metadata": {},
   "source": [
    "## Take  a look on dataset"
   ]
  },
  {
   "cell_type": "code",
   "execution_count": 2,
   "id": "e04c1794",
   "metadata": {},
   "outputs": [
    {
     "ename": "KeyboardInterrupt",
     "evalue": "",
     "output_type": "error",
     "traceback": [
      "\u001b[31m---------------------------------------------------------------------------\u001b[39m",
      "\u001b[31mKeyboardInterrupt\u001b[39m                         Traceback (most recent call last)",
      "\u001b[36mCell\u001b[39m\u001b[36m \u001b[39m\u001b[32mIn[2]\u001b[39m\u001b[32m, line 2\u001b[39m\n\u001b[32m      1\u001b[39m pd.set_option(\u001b[33m'\u001b[39m\u001b[33mdisplay.max_columns\u001b[39m\u001b[33m'\u001b[39m, \u001b[38;5;28;01mNone\u001b[39;00m)\n\u001b[32m----> \u001b[39m\u001b[32m2\u001b[39m df = \u001b[43mpd\u001b[49m\u001b[43m.\u001b[49m\u001b[43mread_csv\u001b[49m\u001b[43m(\u001b[49m\u001b[33;43mf\u001b[39;49m\u001b[33;43m\"\u001b[39;49m\u001b[38;5;132;43;01m{\u001b[39;49;00m\u001b[43mdata_path\u001b[49m\u001b[38;5;132;43;01m}\u001b[39;49;00m\u001b[33;43mepi_r.csv\u001b[39;49m\u001b[33;43m\"\u001b[39;49m\u001b[43m)\u001b[49m\n\u001b[32m      3\u001b[39m \u001b[38;5;28;01mfor\u001b[39;00m name, count \u001b[38;5;129;01min\u001b[39;00m df.nunique().items():\n\u001b[32m      4\u001b[39m     \u001b[38;5;28mprint\u001b[39m(\u001b[33mf\u001b[39m\u001b[33m\"\u001b[39m\u001b[38;5;132;01m{\u001b[39;00mname\u001b[38;5;132;01m}\u001b[39;00m\u001b[33m: \u001b[39m\u001b[38;5;132;01m{\u001b[39;00mcount\u001b[38;5;132;01m}\u001b[39;00m\u001b[33m\"\u001b[39m)\n",
      "\u001b[36mFile \u001b[39m\u001b[32m~/projects/school21/DS_Bootcamp.Team01.ID_886525-Team_TL_shirledo.396ad497_d1b1_4d29-1/src/venv/lib/python3.12/site-packages/pandas/io/parsers/readers.py:1026\u001b[39m, in \u001b[36mread_csv\u001b[39m\u001b[34m(filepath_or_buffer, sep, delimiter, header, names, index_col, usecols, dtype, engine, converters, true_values, false_values, skipinitialspace, skiprows, skipfooter, nrows, na_values, keep_default_na, na_filter, verbose, skip_blank_lines, parse_dates, infer_datetime_format, keep_date_col, date_parser, date_format, dayfirst, cache_dates, iterator, chunksize, compression, thousands, decimal, lineterminator, quotechar, quoting, doublequote, escapechar, comment, encoding, encoding_errors, dialect, on_bad_lines, delim_whitespace, low_memory, memory_map, float_precision, storage_options, dtype_backend)\u001b[39m\n\u001b[32m   1013\u001b[39m kwds_defaults = _refine_defaults_read(\n\u001b[32m   1014\u001b[39m     dialect,\n\u001b[32m   1015\u001b[39m     delimiter,\n\u001b[32m   (...)\u001b[39m\u001b[32m   1022\u001b[39m     dtype_backend=dtype_backend,\n\u001b[32m   1023\u001b[39m )\n\u001b[32m   1024\u001b[39m kwds.update(kwds_defaults)\n\u001b[32m-> \u001b[39m\u001b[32m1026\u001b[39m \u001b[38;5;28;01mreturn\u001b[39;00m \u001b[43m_read\u001b[49m\u001b[43m(\u001b[49m\u001b[43mfilepath_or_buffer\u001b[49m\u001b[43m,\u001b[49m\u001b[43m \u001b[49m\u001b[43mkwds\u001b[49m\u001b[43m)\u001b[49m\n",
      "\u001b[36mFile \u001b[39m\u001b[32m~/projects/school21/DS_Bootcamp.Team01.ID_886525-Team_TL_shirledo.396ad497_d1b1_4d29-1/src/venv/lib/python3.12/site-packages/pandas/io/parsers/readers.py:626\u001b[39m, in \u001b[36m_read\u001b[39m\u001b[34m(filepath_or_buffer, kwds)\u001b[39m\n\u001b[32m    623\u001b[39m     \u001b[38;5;28;01mreturn\u001b[39;00m parser\n\u001b[32m    625\u001b[39m \u001b[38;5;28;01mwith\u001b[39;00m parser:\n\u001b[32m--> \u001b[39m\u001b[32m626\u001b[39m     \u001b[38;5;28;01mreturn\u001b[39;00m \u001b[43mparser\u001b[49m\u001b[43m.\u001b[49m\u001b[43mread\u001b[49m\u001b[43m(\u001b[49m\u001b[43mnrows\u001b[49m\u001b[43m)\u001b[49m\n",
      "\u001b[36mFile \u001b[39m\u001b[32m~/projects/school21/DS_Bootcamp.Team01.ID_886525-Team_TL_shirledo.396ad497_d1b1_4d29-1/src/venv/lib/python3.12/site-packages/pandas/io/parsers/readers.py:1923\u001b[39m, in \u001b[36mTextFileReader.read\u001b[39m\u001b[34m(self, nrows)\u001b[39m\n\u001b[32m   1916\u001b[39m nrows = validate_integer(\u001b[33m\"\u001b[39m\u001b[33mnrows\u001b[39m\u001b[33m\"\u001b[39m, nrows)\n\u001b[32m   1917\u001b[39m \u001b[38;5;28;01mtry\u001b[39;00m:\n\u001b[32m   1918\u001b[39m     \u001b[38;5;66;03m# error: \"ParserBase\" has no attribute \"read\"\u001b[39;00m\n\u001b[32m   1919\u001b[39m     (\n\u001b[32m   1920\u001b[39m         index,\n\u001b[32m   1921\u001b[39m         columns,\n\u001b[32m   1922\u001b[39m         col_dict,\n\u001b[32m-> \u001b[39m\u001b[32m1923\u001b[39m     ) = \u001b[38;5;28;43mself\u001b[39;49m\u001b[43m.\u001b[49m\u001b[43m_engine\u001b[49m\u001b[43m.\u001b[49m\u001b[43mread\u001b[49m\u001b[43m(\u001b[49m\u001b[43m  \u001b[49m\u001b[38;5;66;43;03m# type: ignore[attr-defined]\u001b[39;49;00m\n\u001b[32m   1924\u001b[39m \u001b[43m        \u001b[49m\u001b[43mnrows\u001b[49m\n\u001b[32m   1925\u001b[39m \u001b[43m    \u001b[49m\u001b[43m)\u001b[49m\n\u001b[32m   1926\u001b[39m \u001b[38;5;28;01mexcept\u001b[39;00m \u001b[38;5;167;01mException\u001b[39;00m:\n\u001b[32m   1927\u001b[39m     \u001b[38;5;28mself\u001b[39m.close()\n",
      "\u001b[36mFile \u001b[39m\u001b[32m~/projects/school21/DS_Bootcamp.Team01.ID_886525-Team_TL_shirledo.396ad497_d1b1_4d29-1/src/venv/lib/python3.12/site-packages/pandas/io/parsers/c_parser_wrapper.py:234\u001b[39m, in \u001b[36mCParserWrapper.read\u001b[39m\u001b[34m(self, nrows)\u001b[39m\n\u001b[32m    232\u001b[39m \u001b[38;5;28;01mtry\u001b[39;00m:\n\u001b[32m    233\u001b[39m     \u001b[38;5;28;01mif\u001b[39;00m \u001b[38;5;28mself\u001b[39m.low_memory:\n\u001b[32m--> \u001b[39m\u001b[32m234\u001b[39m         chunks = \u001b[38;5;28;43mself\u001b[39;49m\u001b[43m.\u001b[49m\u001b[43m_reader\u001b[49m\u001b[43m.\u001b[49m\u001b[43mread_low_memory\u001b[49m\u001b[43m(\u001b[49m\u001b[43mnrows\u001b[49m\u001b[43m)\u001b[49m\n\u001b[32m    235\u001b[39m         \u001b[38;5;66;03m# destructive to chunks\u001b[39;00m\n\u001b[32m    236\u001b[39m         data = _concatenate_chunks(chunks)\n",
      "\u001b[36mFile \u001b[39m\u001b[32mparsers.pyx:838\u001b[39m, in \u001b[36mpandas._libs.parsers.TextReader.read_low_memory\u001b[39m\u001b[34m()\u001b[39m\n",
      "\u001b[36mFile \u001b[39m\u001b[32mparsers.pyx:905\u001b[39m, in \u001b[36mpandas._libs.parsers.TextReader._read_rows\u001b[39m\u001b[34m()\u001b[39m\n",
      "\u001b[36mFile \u001b[39m\u001b[32mparsers.pyx:874\u001b[39m, in \u001b[36mpandas._libs.parsers.TextReader._tokenize_rows\u001b[39m\u001b[34m()\u001b[39m\n",
      "\u001b[36mFile \u001b[39m\u001b[32mparsers.pyx:891\u001b[39m, in \u001b[36mpandas._libs.parsers.TextReader._check_tokenize_status\u001b[39m\u001b[34m()\u001b[39m\n",
      "\u001b[36mFile \u001b[39m\u001b[32mparsers.pyx:2053\u001b[39m, in \u001b[36mpandas._libs.parsers.raise_parser_error\u001b[39m\u001b[34m()\u001b[39m\n",
      "\u001b[36mFile \u001b[39m\u001b[32m/usr/lib/python3.12/codecs.py:331\u001b[39m, in \u001b[36mBufferedIncrementalDecoder.getstate\u001b[39m\u001b[34m(self)\u001b[39m\n\u001b[32m    328\u001b[39m     IncrementalDecoder.reset(\u001b[38;5;28mself\u001b[39m)\n\u001b[32m    329\u001b[39m     \u001b[38;5;28mself\u001b[39m.buffer = \u001b[33mb\u001b[39m\u001b[33m\"\u001b[39m\u001b[33m\"\u001b[39m\n\u001b[32m--> \u001b[39m\u001b[32m331\u001b[39m \u001b[38;5;28;01mdef\u001b[39;00m\u001b[38;5;250m \u001b[39m\u001b[34mgetstate\u001b[39m(\u001b[38;5;28mself\u001b[39m):\n\u001b[32m    332\u001b[39m     \u001b[38;5;66;03m# additional state info is always 0\u001b[39;00m\n\u001b[32m    333\u001b[39m     \u001b[38;5;28;01mreturn\u001b[39;00m (\u001b[38;5;28mself\u001b[39m.buffer, \u001b[32m0\u001b[39m)\n\u001b[32m    335\u001b[39m \u001b[38;5;28;01mdef\u001b[39;00m\u001b[38;5;250m \u001b[39m\u001b[34msetstate\u001b[39m(\u001b[38;5;28mself\u001b[39m, state):\n\u001b[32m    336\u001b[39m     \u001b[38;5;66;03m# ignore additional state info\u001b[39;00m\n",
      "\u001b[31mKeyboardInterrupt\u001b[39m: "
     ]
    }
   ],
   "source": [
    "pd.set_option('display.max_columns', None)\n",
    "df = pd.read_csv(f\"{data_path}epi_r.csv\")\n",
    "for name, count in df.nunique().items():\n",
    "    print(f\"{name}: {count}\")"
   ]
  },
  {
   "cell_type": "markdown",
   "id": "860a3825",
   "metadata": {},
   "source": [
    "The dataset have target feature:\n",
    "```rating```.\n",
    "\n",
    "There is also features: ```title, calories, protein, fat, sodium```\n",
    "\n",
    "\n",
    "\n",
    "Dataset have 2 categorical features after the One-Hot Encoding conversion.\n",
    "\n",
    "first categorical feature is:\n",
    "\n",
    "Ingredients: ```almond, anchovy, apple, avocado, bacon```\n",
    "\n",
    "second categorical feature is tags\n",
    "\n",
    "The tags may contain:\n",
    "* Recipe characteristics: ```#cakeweek, #wasteless, 22-minute meals, 3-ingredient recipes...```\n",
    "\n",
    "* Geographical affiliation: ```alabama, arizona, boston, france, italy...```\n",
    "\n",
    "* Dietary restrictions and features: ```dairy free, gluten free, vegan...```\n",
    "\n",
    "* Cooking methods: ```bake, boil, grill, slow cooker...```\n",
    "\n",
    "* Holidays and events: ```christmas, halloween, valentine's day...```\n",
    "\n",
    "* Machinery and tools: ```blender, food processor, pressure cooker, microwave...```"
   ]
  },
  {
   "cell_type": "markdown",
   "id": "5eb48838",
   "metadata": {},
   "source": [
    "## Let's sort columns in the dataset, and get nutrients for ingredients"
   ]
  },
  {
   "cell_type": "markdown",
   "id": "8cb3279b",
   "metadata": {},
   "source": [
    "### this is list of nutrients, what we need"
   ]
  },
  {
   "cell_type": "code",
   "execution_count": null,
   "id": "2ecb71ca",
   "metadata": {},
   "outputs": [],
   "source": [
    "nutrients_list = [\n",
    "    # Основные макронутриенты \n",
    "    \"Total lipid (fat)\",\n",
    "    \"Fatty acids, total saturated\",\n",
    "    \"Fatty acids, total monounsaturated\",\n",
    "    \"Fatty acids, total polyunsaturated\",\n",
    "    \"Fatty acids, total trans\",\n",
    "    \"Cholesterol\",\n",
    "    \"Carbohydrate, by difference\",\n",
    "    \"Sodium, Na\", \n",
    "    \"Fiber, total dietary\",\n",
    "    \"Protein\",\n",
    "    \"Sugars, Total\",  \n",
    "    \"Energy\", \n",
    "    \"Vitamin A, RAE\",  \n",
    "    \"Vitamin C, total ascorbic acid\", \n",
    "    \"Vitamin D (D2 + D3)\",\n",
    "    \"Vitamin E (alpha-tocopherol)\",\n",
    "    \"Vitamin K (phylloquinone)\",\n",
    "    \"Thiamin\",\n",
    "    \"Riboflavin\",\n",
    "    \"Niacin\",\n",
    "    \"Vitamin B-6\",\n",
    "    \"Folate, total\",\n",
    "    \"Vitamin B-12\",\n",
    "    \n",
    "    # Минералы\n",
    "    \"Calcium, Ca\",\n",
    "    \"Iron, Fe\",\n",
    "    \"Phosphorus, P\",\n",
    "    \"Magnesium, Mg\",\n",
    "    \"Zinc, Zn\",\n",
    "    \"Copper, Cu\",\n",
    "    \"Manganese, Mn\",\n",
    "    \"Selenium, Se\",\n",
    "    \"Potassium, K\",\n",
    "    \n",
    "    # Специфичные компоненты \n",
    "    \"Ash\",\n",
    "    \"Nitrogen\",\n",
    "    \"Water\",\n",
    "    \n",
    "    # Разные формы сахаров\n",
    "    \"Fructose\",\n",
    "    \"Glucose\",\n",
    "    \"Sucrose\",\n",
    "    \"Galactose\"\n",
    "]\n"
   ]
  },
  {
   "cell_type": "markdown",
   "id": "be624830",
   "metadata": {},
   "source": [
    "### Funcs for primary sort ingredients and get cache for nutrients "
   ]
  },
  {
   "cell_type": "code",
   "execution_count": null,
   "id": "062b7635",
   "metadata": {},
   "outputs": [],
   "source": [
    "import requests\n",
    "import json\n",
    "def load_nutrients_cache(path_to_file):\n",
    "    try:\n",
    "        with open(path_to_file, 'r', encoding='utf-8') as f:\n",
    "            try:\n",
    "                return json.load(f)\n",
    "            except:\n",
    "                return {}\n",
    "    except:\n",
    "        return {}\n",
    "def save_to_cache(path_to_file, ingredient, nutrient_dict, cache):\n",
    "    cache[ingredient]=nutrient_dict\n",
    "    with open(path_to_file, 'w', encoding='utf-8') as f:\n",
    "        json.dump(cache, f, indent=4, ensure_ascii=False)\n",
    "\n",
    "def get_nutrients_info(ingredient):\n",
    "    ingredient_info=None\n",
    "    params = {\n",
    "        \"query\": f'\"{ingredient}\"',\n",
    "        \"api_key\": api_key,\n",
    "        \"dataType\": [\"Foundation\"]  \n",
    "    }\n",
    "    cache=load_nutrients_cache(f\"{data_path}ingridient_nutr_cache.json\")\n",
    "    non_ingredient_cache=load_nutrients_cache(f\"{data_path}not_ingridient_cache.json\")\n",
    "    if ingredient in cache:\n",
    "        return cache[ingredient]\n",
    "    elif ingredient not in non_ingredient_cache:\n",
    "        response = requests.get('https://api.nal.usda.gov/fdc/v1/foods/search', params=params)\n",
    "        if response.status_code == 200:\n",
    "            ingredient_info = response.json().get('foods')\n",
    "            if ingredient_info and ingredient_info[0].get('score') < 200:\n",
    "                ingredient_info=None\n",
    "            if ingredient_info:\n",
    "                ingredient_info=ingredient_info[0].get('foodNutrients')\n",
    "                nutrient_df=pd.json_normalize(ingredient_info)[['nutrientName','unitName','value']]\n",
    "                nutrient_dict=nutrient_df[nutrient_df['nutrientName'].isin(nutrients_list)].to_dict()       \n",
    "                save_to_cache(f\"{data_path}ingridient_nutr_cache.json\",ingredient, nutrient_dict, cache)\n",
    "    if not ingredient_info:\n",
    "        save_to_cache(f\"{data_path}not_ingridient_cache.json\",ingredient, ingredient_info, non_ingredient_cache)\n",
    "    return ingredient_info\n",
    "def is_ingredient(ingredient):\n",
    "    data=get_nutrients_info(ingredient)\n",
    "    return True if data else False\n"
   ]
  },
  {
   "cell_type": "code",
   "execution_count": null,
   "id": "87648796",
   "metadata": {},
   "outputs": [
    {
     "name": "stdout",
     "output_type": "stream",
     "text": [
      "a list of possible ingredients\n",
      "['fat', 'sodium', 'almond', 'apple', 'apple juice', 'apricot', 'arugula', 'asparagus', 'avocado', 'bacon', 'banana', 'barley', 'bean', 'beef', 'beef tenderloin', 'beet', 'blackberry', 'blueberry', 'boil', 'bok choy', 'braise', 'bran', 'bread', 'breakfast', 'broccoli', 'broil', 'brussel sprout', 'bulgur', 'butter', 'buttermilk', 'cabbage', 'cantaloupe', 'carrot', 'cashew', 'cauliflower', 'celery', 'cheddar', 'cherry', 'chestnut', 'chicken', 'chickpea', 'cobbler/crumble', 'coconut', 'cod', 'cookie', 'cookies', 'corn', 'cottage cheese', 'crab', 'cranberry', 'cream cheese', 'cucumber', 'dill', 'egg', 'eggplant', 'fat free', 'feta', 'fig', 'fish', 'garlic', 'grains', 'grape', 'grapefruit', 'green onion/scallion', 'ham', 'hazelnut', 'hominy/cornmeal/masa', 'honeydew', 'hummus', 'kale', 'kiwi', 'kosher', 'lamb', 'leek', 'lentil', 'lettuce', 'low fat', 'low/no sugar', 'macadamia nut', 'mango', 'meat', 'melon', 'milk/cream', 'monterey jack', 'mozzarella', 'mushroom', 'mustard', 'nectarine', 'no sugar added', 'no-cook', 'nut', 'oat', 'oatmeal', 'olive', 'onion', 'orange', 'orange juice', 'oyster', 'parmesan', 'pasta', 'pastry', 'pea', 'peach', 'peanut', 'peanut butter', 'pear', 'pecan', 'pepper', 'pickles', 'pie', 'pine nut', 'pineapple', 'pistachio', 'plantain', 'plum', 'pomegranate', 'pork', 'pork chop', 'potato', 'prune', 'pumpkin', 'quinoa', 'raisin', 'raspberry', 'raw', 'rice', 'ricotta', 'rutabaga', 'rye', 'salmon', 'salsa', 'sausage', 'seed', 'semolina', 'sesame', 'shallot', 'shrimp', 'soy', 'spinach', 'squash', 'steak', 'strawberry', 'stuffing/dressing', 'summer', 'sweet potato/yam', 'tart', 'tilapia', 'tomatillo', 'tomato', 'tuna', 'walnut', 'wheat/gluten-free', 'whole wheat', 'wild rice', 'winter', 'yogurt', 'zucchini', 'turkey']\n"
     ]
    }
   ],
   "source": [
    "features =[]\n",
    "for column in df.columns:\n",
    "    for ingredients in column.split(\"/\"):\n",
    "        if is_ingredient(ingredients):\n",
    "            features.append(column)\n",
    "            break\n",
    "print(\"a list of possible ingredients\")\n",
    "print (features)\n"
   ]
  },
  {
   "cell_type": "code",
   "execution_count": null,
   "id": "138b1bb6",
   "metadata": {},
   "outputs": [
    {
     "name": "stdout",
     "output_type": "stream",
     "text": [
      "a list of possible non ingredients\n",
      "['title', 'rating', 'calories', 'protein', '#cakeweek', '#wasteless', '22-minute meals', '3-ingredient recipes', '30 days of groceries', 'advance prep required', 'alabama', 'alaska', 'alcoholic', 'amaretto', 'anchovy', 'anise', 'anniversary', 'anthony bourdain', 'aperitif', 'appetizer', 'arizona', 'artichoke', 'asian pear', 'aspen', 'atlanta', 'australia', 'back to school', 'backyard bbq', 'bake', 'basil', 'bass', 'bastille day', 'beef rib', 'beef shank', 'beer', 'bell pepper', 'berry', 'beverly hills', 'birthday', 'biscuit', 'bitters', 'blender', 'blue cheese', 'bon appétit', 'bon app��tit', 'boston', 'bourbon', 'brandy', 'breadcrumbs', 'brie', 'brine', 'brisket', 'broccoli rabe', 'brooklyn', 'brown rice', 'brownie', 'brunch', 'buffalo', 'buffet', 'bulgaria', 'burrito', 'butternut squash', 'butterscotch/caramel', 'cake', 'california', 'calvados', 'cambridge', 'campari', 'camping', 'canada', 'candy', 'candy thermometer', 'capers', 'caraway', 'cardamom', 'casserole/gratin', 'caviar', 'chambord', 'champagne', 'chard', 'chartreuse', 'cheese', 'chicago', 'chile', 'chile pepper', 'chili', 'chill', 'chive', 'chocolate', 'christmas', 'christmas eve', 'cilantro', 'cinco de mayo', 'cinnamon', 'citrus', 'clam', 'clove', 'cobbler/crumble', 'cocktail', 'cocktail party', 'coffee', 'coffee grinder', 'cognac/armagnac', 'collard greens', 'colorado', 'columbus', 'condiment', 'condiment/spread', 'connecticut', 'cook like a diner', 'cookbook critic', 'coriander', 'cornmeal', 'costa mesa', 'couscous', 'cranberry sauce', 'créme de cacao', 'crêpe', 'cr��me de cacao', 'cuba', 'cumin', 'cupcake', 'currant', 'curry', 'custard', 'dairy', 'dairy free', 'dallas', 'date', 'deep-fry', 'denver', 'dessert', 'digestif', 'dinner', 'dip', 'diwali', 'dominican republic', 'dorie greenspan', 'double boiler', 'dried fruit', 'drink', 'drinks', 'duck', 'easter', 'eau de vie', 'edible gift', 'egg nog', 'egypt', 'emeril lagasse', 'endive', 'engagement party', 'england', 'entertaining', 'epi + ushg', 'epi loves the microwave', 'escarole', 'fall', 'family reunion', \"father's day\", 'fennel', 'flaming hot summer', 'flat bread', 'florida', 'fontina', 'food processor', 'fortified wine', 'fourth of july', 'france', 'frangelico', 'frankenrecipe', 'freeze/chill', 'freezer food', 'friendsgiving', 'frittata', 'fritter', 'frozen dessert', 'fruit', 'fruit juice', 'fry', 'game', 'georgia', 'germany', 'gin', 'ginger', 'goat cheese', 'goose', 'gouda', 'gourmet', 'graduation', 'grand marnier', 'granola', 'grappa', 'green bean', 'grill', 'grill/barbecue', 'ground beef', 'ground lamb', 'guam', 'guava', 'haiti', 'halibut', 'halloween', 'hamburger', 'hanukkah', 'harpercollins', 'hawaii', 'healdsburg', 'healthy', 'herb', 'high fiber', 'hollywood', 'hominy/cornmeal/masa', 'honey', \"hors d'oeuvre\", 'horseradish', 'hot drink', 'hot pepper', 'house & garden', 'house cocktail', 'houston', 'ice cream', 'ice cream machine', 'iced coffee', 'iced tea', 'idaho', 'illinois', 'indiana', 'iowa', 'ireland', 'israel', 'italy', 'jalapeño', 'jam or jelly', 'jamaica', 'japan', 'jerusalem artichoke', 'juicer', 'jícama', 'kahlúa', 'kansas', 'kansas city', 'kentucky', 'kentucky derby', 'kid-friendly', 'kidney friendly', 'kirsch', 'kitchen olympics', 'kosher for passover', 'kumquat', 'kwanzaa', 'labor day', 'lamb chop', 'lamb shank', 'lancaster', 'las vegas', 'lasagna', 'leafy green', 'legume', 'lemon', 'lemon juice', 'lemongrass', 'lima bean', 'lime', 'lime juice', 'lingonberry', 'liqueur', 'lobster', 'london', 'long beach', 'los angeles', 'louisiana', 'louisville', 'low cal', 'low carb', 'low cholesterol', 'low sodium', 'low sugar', 'lunar new year', 'lunch', 'lychee', 'macaroni and cheese', 'maine', 'mandoline', 'maple syrup', 'mardi gras', 'margarita', 'marinade', 'marinate', 'marsala', 'marscarpone', 'marshmallow', 'martini', 'maryland', 'massachusetts', 'mayonnaise', 'meatball', 'meatloaf', 'mexico', 'mezcal', 'miami', 'michigan', 'microwave', 'midori', 'milk/cream', 'minneapolis', 'minnesota', 'mint', 'mississippi', 'missouri', 'mixer', 'molasses', 'mortar and pestle', \"mother's day\", 'muffin', 'mussel', 'mustard greens', 'nancy silverton', 'nebraska', 'new hampshire', 'new jersey', 'new mexico', 'new orleans', \"new year's day\", \"new year's eve\", 'new york', 'no meat, no problem', 'non-alcoholic', 'noodle', 'north carolina', 'nutmeg', 'octopus', 'ohio', 'oklahoma', 'okra', 'oktoberfest', 'omelet', 'one-pot meal', 'oregano', 'oregon', 'organic', 'orzo', 'oscars', 'pacific palisades', 'paleo', 'pan-fry', 'pancake', 'papaya', 'paprika', 'parade', 'paris', 'parsley', 'parsnip', 'party', 'pasadena', 'passion fruit', 'passover', 'pasta maker', 'peanut free', 'pennsylvania', 'pernod', 'persian new year', 'persimmon', 'peru', 'pescatarian', 'philippines', 'phyllo/puff pastry dough', 'picnic', 'pittsburgh', 'pizza', 'poach', 'poblano', 'poker/game night', 'pomegranate juice', 'poppy', 'pork rib', 'pork tenderloin', 'port', 'portland', 'pot pie', 'potato salad', 'potluck', 'poultry', 'poultry sausage', 'pressure cooker', 'prosciutto', 'providence', 'punch', 'purim', 'quail', 'quiche', 'quick & easy', 'quick and healthy', 'quince', 'rabbit', 'rack of lamb', 'radicchio', 'radish', 'ramadan', 'ramekin', 'red wine', 'rhode island', 'rhubarb', 'roast', 'root vegetable', 'rosemary', 'rosh hashanah/yom kippur', 'rosé', 'rub', 'rum', 'saffron', 'sage', 'sake', 'salad', 'salad dressing', 'san francisco', 'sandwich', 'sandwich theory', 'sangria', 'santa monica', 'sardine', 'sauce', 'sauté', 'scallop', 'scotch', 'seafood', 'seattle', 'self', 'sesame oil', 'shavuot', 'shellfish', 'sherry', 'shower', 'side', 'simmer', 'skewer', 'slow cooker', 'smoker', 'smoothie', 'snapper', 'sorbet', 'soufflé/meringue', 'soup/stew', 'sour cream', 'sourdough', 'south carolina', 'soy free', 'soy sauce', 'spain', 'sparkling wine', 'spice', 'spirit', 'spring', 'spritzer', 'squid', 'st. louis', \"st. patrick's day\", 'steam', 'stew', 'stir-fry', 'stock', 'stuffing/dressing', 'sugar conscious', 'sugar snap pea', 'sukkot', 'super bowl', 'suzanne goin', 'sweet potato/yam', 'swiss cheese', 'switzerland', 'swordfish', 'taco', 'tailgating', 'tamarind', 'tangerine', 'tapioca', 'tarragon', 'tea', 'tennessee', 'tequila', 'tested & improved', 'texas', 'thanksgiving', 'thyme', 'tofu', 'tortillas', 'tree nut', 'tree nut free', 'triple sec', 'tropical fruit', 'trout', 'turnip', 'utah', \"valentine's day\", 'vanilla', 'veal', 'vegan', 'vegetable', 'vegetarian', 'venison', 'vermont', 'vermouth', 'vinegar', 'virginia', 'vodka', 'waffle', 'wasabi', 'washington', 'washington, d.c.', 'watercress', 'watermelon', 'wedding', 'weelicious', 'west virginia', 'westwood', 'wheat/gluten-free', 'whiskey', 'white wine', 'windsor', 'wine', 'wisconsin', 'wok', 'yellow squash', 'yonkers', 'yuca', 'cookbooks', 'leftovers', 'snack', 'snack week']\n"
     ]
    }
   ],
   "source": [
    "non_ingreedients = []\n",
    "for column in df.columns:\n",
    "    for non_ingreedient in column.split(\"/\"):\n",
    "        if not is_ingredient(non_ingreedient):\n",
    "            non_ingreedients.append(column)\n",
    "            break\n",
    "print(\"a list of possible non ingredients\")\n",
    "print (non_ingreedients)\n"
   ]
  },
  {
   "cell_type": "markdown",
   "id": "1a4cdc80",
   "metadata": {},
   "source": [
    "This API method doesn't work very well, so we'll sort the features manually."
   ]
  },
  {
   "cell_type": "markdown",
   "id": "5aa4485e",
   "metadata": {},
   "source": [
    "remove non_ingredients from features"
   ]
  },
  {
   "cell_type": "code",
   "execution_count": null,
   "id": "2340ce45",
   "metadata": {},
   "outputs": [],
   "source": [
    "non_ingredients = [\n",
    "    'fat',               \n",
    "    'sodium',            \n",
    "    'boil',              \n",
    "    'braise',            \n",
    "    'broil',            \n",
    "    'breakfast',        \n",
    "    'cobbler/crumble',  \n",
    "    'cookie',           \n",
    "    'cookies',        \n",
    "    'fat free',        \n",
    "    'kosher',      \n",
    "    'low fat',          \n",
    "    'low/no sugar',    \n",
    "    'no sugar added',   \n",
    "    'no-cook',     \n",
    "    'raw',             \n",
    "    'stuffing/dressing',\n",
    "    'summer',       \n",
    "    'winter',         \n",
    "    'wheat/gluten-free'\n",
    "]\n",
    "for value in non_ingredients:\n",
    "    if value in features:\n",
    "        if value not in df.columns:\n",
    "            print(f\"problem with: {value}\")\n",
    "        features.remove(value)"
   ]
  },
  {
   "cell_type": "markdown",
   "id": "385d8990",
   "metadata": {},
   "source": [
    "add actually ingredients from dataset to features"
   ]
  },
  {
   "cell_type": "code",
   "execution_count": null,
   "id": "90e34385",
   "metadata": {},
   "outputs": [],
   "source": [
    "actually_ingredients=actually_ingredients = [\n",
    "    'anchovy', 'anise', 'apple juice', 'artichoke',\n",
    "    'asian pear', 'basil', 'bass', 'beef rib',\n",
    "    'beef shank', 'beer', 'bell pepper', 'berry',\n",
    "    'bitters', 'blue cheese', 'brie', 'brisket',\n",
    "    'broccoli rabe', 'brown rice', 'brownie', 'butternut squash',\n",
    "    'butterscotch/caramel', 'cake', 'calvados', 'capers',\n",
    "    'caraway', 'cardamom', 'caviar', 'chard',\n",
    "    'cheese', 'chile', 'chile pepper', 'chili',\n",
    "    'chive', 'chocolate', 'cilantro', 'cinnamon',\n",
    "    'citrus', 'clam', 'clove', 'coffee',\n",
    "    'collard greens', 'cornmeal', 'couscous', 'cranberry sauce',\n",
    "    'crêpe', 'currant', 'curry', 'custard',\n",
    "    'date', 'dried fruit', 'duck', 'egg nog',\n",
    "    'endive', 'escarole', 'fennel', 'flat bread',\n",
    "    'fontina', 'fruit juice', 'ginger', 'goat cheese',\n",
    "    'goose', 'gouda', 'granola', 'green bean',\n",
    "    'ground beef', 'ground lamb', 'guava', 'halibut',\n",
    "    'hamburger', 'herb', 'hominy/cornmeal/masa', 'honey',\n",
    "    'horseradish', 'ice cream', 'iced coffee', 'iced tea',\n",
    "    'jalapeño', 'jam or jelly', 'jerusalem artichoke', 'jícama',\n",
    "    'kumquat', 'lamb chop', 'lamb shank', 'lasagna',\n",
    "    'leafy green', 'legume', 'lemon', 'lemon juice',\n",
    "    'lemongrass', 'lima bean', 'lime', 'lime juice',\n",
    "    'lingonberry', 'lobster', 'macaroni and cheese', 'maple syrup',\n",
    "    'mayonnaise', 'meatball', 'meatloaf', 'milk/cream',\n",
    "    'mint', 'molasses', 'muffin', 'mussel',\n",
    "    'mustard greens', 'noodle', 'nutmeg', 'octopus',\n",
    "    'okra', 'omelet', 'oregano', 'orzo',\n",
    "    'papaya', 'paprika', 'parsley', 'parsnip',\n",
    "    'passion fruit', 'persimmon', 'phyllo/puff pastry dough', 'poblano',\n",
    "    'pomegranate juice', 'poppy', 'pork rib', 'pork tenderloin',\n",
    "    'pot pie', 'potato salad', 'prosciutto', 'quail',\n",
    "    'quiche', 'quince', 'rabbit', 'rack of lamb',\n",
    "    'radicchio', 'radish', 'rhubarb', 'rosemary',\n",
    "    'rosé', 'rum', 'saffron', 'sage',\n",
    "    'sake', 'salad dressing', 'sardine', 'scallop',\n",
    "    'scotch', 'sesame oil', 'shellfish', 'sherry',\n",
    "    'snapper', 'sorbet', 'soufflé/meringue', 'soup/stew',\n",
    "    'sour cream', 'sourdough', 'soy sauce', 'spice',\n",
    "    'squid', 'stock', 'stuffing/dressing', 'sugar snap pea',\n",
    "    'sweet potato/yam', 'swiss cheese', 'swordfish', 'tamarind',\n",
    "    'tangerine', 'tapioca', 'tarragon', 'tea',\n",
    "    'tofu', 'tortillas', 'tree nut', 'triple sec',\n",
    "    'tropical fruit', 'trout', 'turnip', 'vanilla',\n",
    "    'veal', 'venison', 'vermouth', 'vinegar',\n",
    "    'waffle', 'wasabi', 'watercress', 'watermelon',\n",
    "    'white wine', 'wine', 'yellow squash', 'yuca'\n",
    "]\n",
    "for value in actually_ingredients:\n",
    "    if value not in features:\n",
    "        if value not in df.columns:\n",
    "            print(f\"problem with: {value}\")\n",
    "        features.append(value)\n"
   ]
  },
  {
   "cell_type": "markdown",
   "id": "436650ff",
   "metadata": {},
   "source": [
    "## lets sort columns in our dataset\n"
   ]
  },
  {
   "cell_type": "code",
   "execution_count": null,
   "id": "69d2e806",
   "metadata": {},
   "outputs": [],
   "source": [
    "X=df[features]\n",
    "y=df['rating']"
   ]
  },
  {
   "cell_type": "code",
   "execution_count": null,
   "id": "d268e6f4",
   "metadata": {},
   "outputs": [
    {
     "name": "stdout",
     "output_type": "stream",
     "text": [
      "(20052, 322)\n",
      "(20052,)\n"
     ]
    },
    {
     "data": {
      "text/plain": [
       "onion         2238.0\n",
       "tomato        2140.0\n",
       "milk/cream    1995.0\n",
       "egg           1768.0\n",
       "herb          1681.0\n",
       "               ...  \n",
       "caviar           1.0\n",
       "waffle           1.0\n",
       "crêpe            1.0\n",
       "quiche           1.0\n",
       "sorbet           1.0\n",
       "Length: 322, dtype: float64"
      ]
     },
     "execution_count": 21,
     "metadata": {},
     "output_type": "execute_result"
    }
   ],
   "source": [
    "print(X.shape) \n",
    "print(y.shape) \n",
    "\n",
    "X.sum().sort_values(ascending=False)"
   ]
  },
  {
   "cell_type": "markdown",
   "id": "d4ef463b",
   "metadata": {},
   "source": [
    "visual"
   ]
  },
  {
   "cell_type": "code",
   "execution_count": null,
   "id": "8efcdd28",
   "metadata": {},
   "outputs": [
    {
     "data": {
      "text/plain": [
       "rating\n",
       "4.375    8019\n",
       "3.750    5169\n",
       "5.000    2719\n",
       "0.000    1836\n",
       "3.125    1489\n",
       "2.500     532\n",
       "1.250     164\n",
       "1.875     124\n",
       "Name: count, dtype: int64"
      ]
     },
     "execution_count": 22,
     "metadata": {},
     "output_type": "execute_result"
    }
   ],
   "source": [
    "y.value_counts()"
   ]
  },
  {
   "cell_type": "code",
   "execution_count": null,
   "id": "850f7ef4",
   "metadata": {},
   "outputs": [
    {
     "data": {
      "image/png": "[encoded data removed]",
      "text/plain": [
       "<Figure size 640x480 with 1 Axes>"
      ]
     },
     "metadata": {},
     "output_type": "display_data"
    }
   ],
   "source": [
    "import matplotlib.pyplot as plt\n",
    "\n",
    "plt.hist(y, bins=20)\n",
    "plt.axvline(2, color='r', linestyle='--')  \n",
    "plt.axvline(4, color='r', linestyle='--') \n",
    "plt.show()\n"
   ]
  },
  {
   "cell_type": "markdown",
   "id": "1ab26982",
   "metadata": {},
   "source": [
    "## Let's start tuning the hyperparameters"
   ]
  },
  {
   "cell_type": "markdown",
   "id": "d7a6c5f8",
   "metadata": {},
   "source": [
    "это чисто препроцессинг, то что я сделал выше мб оформлю его так же шобы в пайплайн запихать "
   ]
  },
  {
   "cell_type": "code",
   "execution_count": null,
   "id": "cfa9dc34",
   "metadata": {},
   "outputs": [],
   "source": [
    "from sklearn.pipeline import Pipeline\n",
    "from sklearn.base import BaseEstimator, TransformerMixin, ClassifierMixin\n",
    "\n",
    "from sklearn.model_selection import train_test_split, cross_val_score\n",
    "from sklearn.metrics import accuracy_score\n",
    "from tqdm.auto import tqdm"
   ]
  },
  {
   "cell_type": "markdown",
   "id": "1cd1f082",
   "metadata": {},
   "source": [
    "#### Train-test-validation split "
   ]
  },
  {
   "cell_type": "code",
   "execution_count": null,
   "id": "5d574bc1",
   "metadata": {},
   "outputs": [],
   "source": [
    "from imblearn.over_sampling import SMOTE\n",
    "from sklearn.preprocessing import LabelEncoder\n",
    "\n",
    "class TrainValidationTest(BaseEstimator, TransformerMixin):\n",
    "        def __init__(self, test_size=0.2, random_state=21, stratified=True):\n",
    "            self.test_size = test_size\n",
    "            self.random_state = random_state\n",
    "            self.stratified = stratified\n",
    "        def split(self, X , y):\n",
    "            stratify = y if self.stratified else None\n",
    "            X_train, X_test, y_train, y_test =train_test_split(\n",
    "                X, y, test_size=self.test_size, random_state=self.random_state, stratify=stratify\n",
    "            )\n",
    "            X_train, X_valid, y_train, y_valid =train_test_split(\n",
    "                X_train, y_train, test_size=self.test_size/(1-self.test_size), random_state=self.random_state, stratify=stratify\n",
    "            )\n",
    "\n",
    "            \n",
    "\n",
    "\n",
    "\n",
    "            label_encoder= LabelEncoder()\n",
    "            y_train=label_encoder.fit_transform(y_train)\n",
    "            y_valid=label_encoder.fit_transform(y_valid)\n",
    "            y_test=label_encoder.fit_transform(y_test)\n",
    "\n",
    "\n",
    "\n",
    "            #since the data is not balanced, I will use SMOTE\n",
    "\n",
    "            smote = SMOTE(sampling_strategy=\"auto\", random_state=21)\n",
    "            X_train, y_train = smote.fit_resample(X_train, y_train)\n",
    "            \n",
    "\n",
    "            return X_train, X_valid, X_test, y_train, y_valid, y_test"
   ]
  },
  {
   "cell_type": "markdown",
   "id": "f5918900",
   "metadata": {},
   "source": [
    "#### Model selection class\n"
   ]
  },
  {
   "cell_type": "code",
   "execution_count": null,
   "id": "979d1b06",
   "metadata": {},
   "outputs": [],
   "source": [
    "from copy import deepcopy\n",
    "from itertools import product\n",
    "from sklearn.metrics import get_scorer\n",
    "def manual_grid_search(X_train, y_train, X_valid, y_valid, model_estimator,param_grid, cv, scoring='accuracy_score',  n_jobs=-1, error_score=np.nan):\n",
    "    res=[]\n",
    "    estimator=deepcopy(model_estimator)\n",
    "    total_combinations = np.prod([len(v) for v in param_grid.values()])\n",
    "    # get scorer for valid score\n",
    "    scorer = get_scorer(scoring)\n",
    "\n",
    "    for params in tqdm(list(product(*param_grid.values())), total=total_combinations, desc=\"GridSearch\"):\n",
    "\n",
    "        current_model = deepcopy(estimator)\n",
    "        current_model.set_params(**(dict(zip(param_grid.keys(), params))))\n",
    "        try:\n",
    "            score=cross_val_score(\n",
    "                current_model, X_train, y_train, cv=cv, scoring=scoring, n_jobs=n_jobs,error_score=error_score\n",
    "            )\n",
    "\n",
    "            current_model.fit(X_train, y_train)\n",
    "            valid_score=scorer(current_model, X_valid, y_valid)\n",
    "\n",
    "            res.append({\n",
    "                'train_score': score.mean(),\n",
    "                'valid_score': valid_score,\n",
    "                'params': dict(zip(param_grid.keys(), params))\n",
    "            })\n",
    "\n",
    "\n",
    "        except Exception as e:\n",
    "            print(f\"Error with params {params}: {str(e)}\")\n",
    "            res.append({\n",
    "                **(dict(zip(param_grid.keys(), params))),\n",
    "                'train_score': 'Na',\n",
    "                'valid_score': 'Na'\n",
    "            })\n",
    "            continue\n",
    "        \n",
    "    return pd.DataFrame(res).sort_values('valid_score', ascending=False)\n",
    "# I know I should have used a dict instead of model name, but I don't care.\n",
    "class ModelSelection:\n",
    "    def __init__ (self,estimators,estimators_name, grid_dict, scoring='accuracy_score'):\n",
    "        self.estimators=estimators\n",
    "        self.scoring=scoring\n",
    "        self.estimators_name=estimators_name\n",
    "        self.grid_dict=grid_dict\n",
    "        self.results=pd.DataFrame()\n",
    "        self.best_res=[]\n",
    "    def choose(self,X_train, y_train, X_valid, y_valid, cv=2):\n",
    "        \"\"\"\n",
    "        Method choose() takes X_train, y_train, X_valid, y_valid, optional cv, \n",
    "        and returns the name of the best model among all the models on the validation set\n",
    "        \"\"\"\n",
    "        for estimator in self.estimators:\n",
    "            model_name= self.estimators_name[self.estimators.index(estimator)]\n",
    "            search_res=manual_grid_search(X_train,y_train,X_valid, y_valid,estimator,self.grid_dict[model_name], cv=cv, scoring=self.scoring)\n",
    "            search_res['model']=model_name\n",
    "            best_params = search_res.head(1)['params'].item()\n",
    "            best_train_score = search_res.head(1)['train_score'].item()\n",
    "            best_valid_score = search_res.head(1)['valid_score'].item()\n",
    "            self.results=pd.concat([self.results, search_res], axis=0, ignore_index=True)\n",
    "            self.best_res.append({\n",
    "                'model': model_name,\n",
    "                'params': best_params,\n",
    "                'valid_score': best_valid_score,\n",
    "                'train_score': best_train_score\n",
    "            })\n",
    "            \n",
    "            print(f\"Best params for model{model_name}: {best_params}\")\n",
    "            print(f\"training score[{self.scoring}]: {best_train_score:.3f}\")\n",
    "            print(f\"Best on validation set score[{self.scoring}]: {best_valid_score:.3f}\")\n",
    "        self.best_res=pd.DataFrame(self.best_res)\n",
    "        self.best_res.sort_values('valid_score', ascending=False,inplace=True)\n",
    "        best_model_name=self.best_res.head(1)['model'].item()\n",
    "        print(f\"\\nBest model: {best_model_name}\\nwith params: {self.best_res.head(1)['params'].item()}\\nand score: {self.best_res.head(1)['valid_score'].item()}\")\n",
    "        return self.results.sort_values('valid_score', ascending=False)\n",
    "    # def show_results(self):\n",
    "        # return self.results.groupby(by=\"model\").sort_values('valid_score', ascending=False)\n",
    "    def fit_score(self,X_comb,y_comb, X_test, y_test):\n",
    "        params=self.best_res.head(1)['params'].item()\n",
    "        model_name=self.best_res.head(1)['model'].item()\n",
    "        print(f'Taking model: {model_name} with params:{params}')\n",
    "        best_estimator=self.estimators[self.estimators_name.index(model_name)]\n",
    "        best_estimator.set_params(**(params))\n",
    "        best_estimator.fit(X_comb,y_comb)\n",
    "        scorer=get_scorer(self.scoring)\n",
    "        print(\"the final score is :\",(scorer(best_estimator,X_test,y_test)))        "
   ]
  },
  {
   "cell_type": "code",
   "execution_count": null,
   "id": "a3358a60",
   "metadata": {},
   "outputs": [],
   "source": [
    "def fit_score(estimator, params, X_comb, y_comb, X_test, y_test, scoring='accuracy'):\n",
    "        estimator.set_params(**(params))\n",
    "        estimator.fit(X_comb,y_comb)\n",
    "        scorer=get_scorer(scoring)\n",
    "        print(\"the final score is :\",(scorer(estimator,X_test,y_test)))  "
   ]
  },
  {
   "cell_type": "markdown",
   "id": "b9d895e4",
   "metadata": {},
   "source": [
    "# Regression serch params"
   ]
  },
  {
   "cell_type": "code",
   "execution_count": null,
   "id": "7ee08122",
   "metadata": {},
   "outputs": [],
   "source": [
    "from xgboost import XGBRegressor\n",
    "from sklearn.linear_model import LinearRegression, Ridge, Lasso, ElasticNet\n",
    "from sklearn.ensemble import RandomForestRegressor, GradientBoostingRegressor\n",
    "\n",
    "\n",
    "estimators = [\n",
    "    LinearRegression(),\n",
    "    Ridge(),\n",
    "    Lasso(),\n",
    "    ElasticNet(),\n",
    "    RandomForestRegressor(random_state=21, n_jobs=-1),\n",
    "    GradientBoostingRegressor(random_state=21),\n",
    "    XGBRegressor(random_state=21, n_jobs=-1)\n",
    "]\n",
    "manual_grid_search\n",
    "estimators_name = [\n",
    "    'LinearRegression',\n",
    "    'Ridge',\n",
    "    'Lasso',\n",
    "    'ElasticNet',\n",
    "    'RandomForest',\n",
    "    'GradientBoosting',\n",
    "    'XGBoost'\n",
    "]\n",
    "\n",
    "grid_dict = {\n",
    "    'LinearRegression': {\n",
    "        'fit_intercept': [True, False],\n",
    "        'positive': [False]\n",
    "    },\n",
    "    'Ridge': {\n",
    "        'alpha': [0.1, 1.0, 10.0],  \n",
    "        'solver': ['svd', 'cholesky', 'saga']  \n",
    "    },\n",
    "    'Lasso': {\n",
    "        'alpha': [0.01, 0.1, 1.0],  \n",
    "        'selection': ['cyclic']\n",
    "    },\n",
    "    'ElasticNet': {\n",
    "        'alpha': [0.01, 0.1, 1.0],\n",
    "        'l1_ratio': [0.3, 0.5, 0.7] \n",
    "    },\n",
    "    'RandomForest': {\n",
    "        'n_estimators': [50,100, 200], \n",
    "        'max_depth': [15,30, None],  \n",
    "        'min_samples_split': [2, 5,10],\n",
    "        'max_features': ['sqrt']\n",
    "    },\n",
    "    'GradientBoosting': {\n",
    "        'n_estimators': [100, 200],\n",
    "        'learning_rate': [0.01, 0.1],\n",
    "        'max_depth': [3, 5],\n",
    "        'subsample': [0.8, 1.0]\n",
    "    },\n",
    "    'XGBoost': {\n",
    "        'n_estimators': [100, 200],\n",
    "        'max_depth': [3, 6],\n",
    "        'learning_rate': [0.01, 0.1],\n",
    "        'subsample': [0.8, 1.0],\n",
    "        'colsample_bytree': [0.8, 1.0]\n",
    "    }\n",
    "}"
   ]
  },
  {
   "cell_type": "markdown",
   "id": "14d296a7",
   "metadata": {},
   "source": [
    "Regression grid search\n"
   ]
  },
  {
   "cell_type": "code",
   "execution_count": null,
   "id": "ccb8f92b",
   "metadata": {},
   "outputs": [
    {
     "data": {
      "application/vnd.jupyter.widget-view+json": {
       "model_id": "cd7045bfca214c85ab0c858d0a905f42",
       "version_major": 2,
       "version_minor": 0
      },
      "text/plain": [
       "GridSearch:   0%|          | 0/2 [00:00<?, ?it/s]"
      ]
     },
     "metadata": {},
     "output_type": "display_data"
    },
    {
     "name": "stdout",
     "output_type": "stream",
     "text": [
      "Best params for modelLinearRegression: {'fit_intercept': True, 'positive': False}\n",
      "training score[neg_root_mean_squared_error]: -1.339\n",
      "Best on validation set score[neg_root_mean_squared_error]: -1.292\n"
     ]
    },
    {
     "data": {
      "application/vnd.jupyter.widget-view+json": {
       "model_id": "66e39b7daebc4dbca902134c374c2a8b",
       "version_major": 2,
       "version_minor": 0
      },
      "text/plain": [
       "GridSearch:   0%|          | 0/9 [00:00<?, ?it/s]"
      ]
     },
     "metadata": {},
     "output_type": "display_data"
    },
    {
     "name": "stdout",
     "output_type": "stream",
     "text": [
      "Best params for modelRidge: {'alpha': 10.0, 'solver': 'cholesky'}\n",
      "training score[neg_root_mean_squared_error]: -1.320\n",
      "Best on validation set score[neg_root_mean_squared_error]: -1.282\n"
     ]
    },
    {
     "data": {
      "application/vnd.jupyter.widget-view+json": {
       "model_id": "b4a0220696414091bb7b6375366b0fe6",
       "version_major": 2,
       "version_minor": 0
      },
      "text/plain": [
       "GridSearch:   0%|          | 0/3 [00:00<?, ?it/s]"
      ]
     },
     "metadata": {},
     "output_type": "display_data"
    },
    {
     "name": "stdout",
     "output_type": "stream",
     "text": [
      "Best params for modelLasso: {'alpha': 0.01, 'selection': 'cyclic'}\n",
      "training score[neg_root_mean_squared_error]: -1.346\n",
      "Best on validation set score[neg_root_mean_squared_error]: -1.311\n"
     ]
    },
    {
     "data": {
      "application/vnd.jupyter.widget-view+json": {
       "model_id": "da36276f7f2b404d8b5527ed77e32830",
       "version_major": 2,
       "version_minor": 0
      },
      "text/plain": [
       "GridSearch:   0%|          | 0/9 [00:00<?, ?it/s]"
      ]
     },
     "metadata": {},
     "output_type": "display_data"
    },
    {
     "name": "stdout",
     "output_type": "stream",
     "text": [
      "Best params for modelElasticNet: {'alpha': 0.01, 'l1_ratio': 0.3}\n",
      "training score[neg_root_mean_squared_error]: -1.332\n",
      "Best on validation set score[neg_root_mean_squared_error]: -1.296\n"
     ]
    },
    {
     "data": {
      "application/vnd.jupyter.widget-view+json": {
       "model_id": "d3594da75c434ec2838e0927b200b8e7",
       "version_major": 2,
       "version_minor": 0
      },
      "text/plain": [
       "GridSearch:   0%|          | 0/27 [00:00<?, ?it/s]"
      ]
     },
     "metadata": {},
     "output_type": "display_data"
    },
    {
     "name": "stdout",
     "output_type": "stream",
     "text": [
      "Best params for modelRandomForest: {'n_estimators': 200, 'max_depth': 30, 'min_samples_split': 2, 'max_features': 'sqrt'}\n",
      "training score[neg_root_mean_squared_error]: -1.317\n",
      "Best on validation set score[neg_root_mean_squared_error]: -1.271\n"
     ]
    },
    {
     "data": {
      "application/vnd.jupyter.widget-view+json": {
       "model_id": "749b7574db304646a93c5e4cbff095c2",
       "version_major": 2,
       "version_minor": 0
      },
      "text/plain": [
       "GridSearch:   0%|          | 0/16 [00:00<?, ?it/s]"
      ]
     },
     "metadata": {},
     "output_type": "display_data"
    },
    {
     "name": "stdout",
     "output_type": "stream",
     "text": [
      "Best params for modelGradientBoosting: {'n_estimators': 200, 'learning_rate': 0.1, 'max_depth': 5, 'subsample': 1.0}\n",
      "training score[neg_root_mean_squared_error]: -1.332\n",
      "Best on validation set score[neg_root_mean_squared_error]: -1.276\n"
     ]
    },
    {
     "data": {
      "application/vnd.jupyter.widget-view+json": {
       "model_id": "f8718fffef6d43c2925caa68f4d0dfe3",
       "version_major": 2,
       "version_minor": 0
      },
      "text/plain": [
       "GridSearch:   0%|          | 0/32 [00:00<?, ?it/s]"
      ]
     },
     "metadata": {},
     "output_type": "display_data"
    },
    {
     "name": "stdout",
     "output_type": "stream",
     "text": [
      "Best params for modelXGBoost: {'n_estimators': 200, 'max_depth': 6, 'learning_rate': 0.1, 'subsample': 1.0, 'colsample_bytree': 1.0}\n",
      "training score[neg_root_mean_squared_error]: -1.330\n",
      "Best on validation set score[neg_root_mean_squared_error]: -1.273\n",
      "\n",
      "Best model: RandomForest\n",
      "with params: {'n_estimators': 200, 'max_depth': 30, 'min_samples_split': 2, 'max_features': 'sqrt'}\n",
      "and score: -1.271343441880819\n"
     ]
    }
   ],
   "source": [
    "scoring='neg_root_mean_squared_error'\n",
    "\n",
    "\n",
    "splitter = TrainValidationTest(stratified=False)\n",
    "X_train, X_valid, X_test, y_train, y_valid, y_test = splitter.split(X, y)\n",
    "search_parametrs= ModelSelection(estimators,estimators_name, grid_dict, scoring)\n",
    "result_serching=search_parametrs.choose(X_train, y_train, X_valid, y_valid)\n"
   ]
  },
  {
   "cell_type": "markdown",
   "id": "c99c4a19",
   "metadata": {},
   "source": []
  },
  {
   "cell_type": "code",
   "execution_count": null,
   "id": "76044021",
   "metadata": {},
   "outputs": [
    {
     "name": "stdout",
     "output_type": "stream",
     "text": [
      "Calc score on the best model\n",
      "Taking model: RandomForest with params:{'n_estimators': 200, 'max_depth': 30, 'min_samples_split': 2, 'max_features': 'sqrt'}\n",
      "the final score is : -1.260777480024706\n"
     ]
    }
   ],
   "source": [
    "print(\"Calc score on the best model\")\n",
    "\n",
    "best_model_name = result_serching.iloc[0]['model']\n",
    "best_estimator = estimators[estimators_name.index(best_model_name)]\n",
    "params= result_serching.iloc[0]['params']\n",
    "print(f'Taking model: {best_model_name} with params:{params}')\n",
    "X_comb=pd.concat([X_train, X_valid], axis=0, ignore_index=True)\n",
    "y_comb=pd.concat([y_train, y_valid], axis=0, ignore_index=True)\n",
    "\n",
    "fit_score(best_estimator, params, X_comb,y_comb, X_test,y_test, scoring=scoring)"
   ]
  },
  {
   "cell_type": "markdown",
   "id": "9c1f80b7",
   "metadata": {},
   "source": [
    "let's analyze the results"
   ]
  },
  {
   "cell_type": "code",
   "execution_count": null,
   "id": "54b0a238",
   "metadata": {},
   "outputs": [
    {
     "data": {
      "text/html": [
       "<div>\n",
       "<style scoped>\n",
       "    .dataframe tbody tr th:only-of-type {\n",
       "        vertical-align: middle;\n",
       "    }\n",
       "\n",
       "    .dataframe tbody tr th {\n",
       "        vertical-align: top;\n",
       "    }\n",
       "\n",
       "    .dataframe thead th {\n",
       "        text-align: right;\n",
       "    }\n",
       "</style>\n",
       "<table border=\"1\" class=\"dataframe\">\n",
       "  <thead>\n",
       "    <tr style=\"text-align: right;\">\n",
       "      <th></th>\n",
       "      <th>train_score</th>\n",
       "      <th>valid_score</th>\n",
       "      <th>params</th>\n",
       "      <th>model</th>\n",
       "    </tr>\n",
       "  </thead>\n",
       "  <tbody>\n",
       "    <tr>\n",
       "      <th>23</th>\n",
       "      <td>-1.317030</td>\n",
       "      <td>-1.271343</td>\n",
       "      <td>{'n_estimators': 200, 'max_depth': 30, 'min_sa...</td>\n",
       "      <td>RandomForest</td>\n",
       "    </tr>\n",
       "    <tr>\n",
       "      <th>24</th>\n",
       "      <td>-1.317769</td>\n",
       "      <td>-1.271758</td>\n",
       "      <td>{'n_estimators': 100, 'max_depth': 30, 'min_sa...</td>\n",
       "      <td>RandomForest</td>\n",
       "    </tr>\n",
       "    <tr>\n",
       "      <th>66</th>\n",
       "      <td>-1.329763</td>\n",
       "      <td>-1.273091</td>\n",
       "      <td>{'n_estimators': 200, 'max_depth': 6, 'learnin...</td>\n",
       "      <td>XGBoost</td>\n",
       "    </tr>\n",
       "    <tr>\n",
       "      <th>67</th>\n",
       "      <td>-1.327541</td>\n",
       "      <td>-1.273299</td>\n",
       "      <td>{'n_estimators': 200, 'max_depth': 6, 'learnin...</td>\n",
       "      <td>XGBoost</td>\n",
       "    </tr>\n",
       "    <tr>\n",
       "      <th>25</th>\n",
       "      <td>-1.319519</td>\n",
       "      <td>-1.273352</td>\n",
       "      <td>{'n_estimators': 50, 'max_depth': 30, 'min_sam...</td>\n",
       "      <td>RandomForest</td>\n",
       "    </tr>\n",
       "  </tbody>\n",
       "</table>\n",
       "</div>"
      ],
      "text/plain": [
       "    train_score  valid_score  \\\n",
       "23    -1.317030    -1.271343   \n",
       "24    -1.317769    -1.271758   \n",
       "66    -1.329763    -1.273091   \n",
       "67    -1.327541    -1.273299   \n",
       "25    -1.319519    -1.273352   \n",
       "\n",
       "                                               params         model  \n",
       "23  {'n_estimators': 200, 'max_depth': 30, 'min_sa...  RandomForest  \n",
       "24  {'n_estimators': 100, 'max_depth': 30, 'min_sa...  RandomForest  \n",
       "66  {'n_estimators': 200, 'max_depth': 6, 'learnin...       XGBoost  \n",
       "67  {'n_estimators': 200, 'max_depth': 6, 'learnin...       XGBoost  \n",
       "25  {'n_estimators': 50, 'max_depth': 30, 'min_sam...  RandomForest  "
      ]
     },
     "execution_count": 51,
     "metadata": {},
     "output_type": "execute_result"
    }
   ],
   "source": [
    "result_serching.head()"
   ]
  },
  {
   "cell_type": "markdown",
   "id": "6b909a7d",
   "metadata": {},
   "source": [
    "Lets take  RandomForest with params:{'n_estimators': 200, 'max_depth': 30, 'min_samples_split': 2, 'max_features': 'sqrt'}\n",
    "with the final score : -1.260777480024706"
   ]
  },
  {
   "cell_type": "code",
   "execution_count": null,
   "id": "a2ad779e",
   "metadata": {},
   "outputs": [
    {
     "data": {
      "text/html": [
       "<style>#sk-container-id-2 {\n",
       "  /* Definition of color scheme common for light and dark mode */\n",
       "  --sklearn-color-text: #000;\n",
       "  --sklearn-color-text-muted: #666;\n",
       "  --sklearn-color-line: gray;\n",
       "  /* Definition of color scheme for unfitted estimators */\n",
       "  --sklearn-color-unfitted-level-0: #fff5e6;\n",
       "  --sklearn-color-unfitted-level-1: #f6e4d2;\n",
       "  --sklearn-color-unfitted-level-2: #ffe0b3;\n",
       "  --sklearn-color-unfitted-level-3: chocolate;\n",
       "  /* Definition of color scheme for fitted estimators */\n",
       "  --sklearn-color-fitted-level-0: #f0f8ff;\n",
       "  --sklearn-color-fitted-level-1: #d4ebff;\n",
       "  --sklearn-color-fitted-level-2: #b3dbfd;\n",
       "  --sklearn-color-fitted-level-3: cornflowerblue;\n",
       "\n",
       "  /* Specific color for light theme */\n",
       "  --sklearn-color-text-on-default-background: var(--sg-text-color, var(--theme-code-foreground, var(--jp-content-font-color1, black)));\n",
       "  --sklearn-color-background: var(--sg-background-color, var(--theme-background, var(--jp-layout-color0, white)));\n",
       "  --sklearn-color-border-box: var(--sg-text-color, var(--theme-code-foreground, var(--jp-content-font-color1, black)));\n",
       "  --sklearn-color-icon: #696969;\n",
       "\n",
       "  @media (prefers-color-scheme: dark) {\n",
       "    /* Redefinition of color scheme for dark theme */\n",
       "    --sklearn-color-text-on-default-background: var(--sg-text-color, var(--theme-code-foreground, var(--jp-content-font-color1, white)));\n",
       "    --sklearn-color-background: var(--sg-background-color, var(--theme-background, var(--jp-layout-color0, #111)));\n",
       "    --sklearn-color-border-box: var(--sg-text-color, var(--theme-code-foreground, var(--jp-content-font-color1, white)));\n",
       "    --sklearn-color-icon: #878787;\n",
       "  }\n",
       "}\n",
       "\n",
       "#sk-container-id-2 {\n",
       "  color: var(--sklearn-color-text);\n",
       "}\n",
       "\n",
       "#sk-container-id-2 pre {\n",
       "  padding: 0;\n",
       "}\n",
       "\n",
       "#sk-container-id-2 input.sk-hidden--visually {\n",
       "  border: 0;\n",
       "  clip: rect(1px 1px 1px 1px);\n",
       "  clip: rect(1px, 1px, 1px, 1px);\n",
       "  height: 1px;\n",
       "  margin: -1px;\n",
       "  overflow: hidden;\n",
       "  padding: 0;\n",
       "  position: absolute;\n",
       "  width: 1px;\n",
       "}\n",
       "\n",
       "#sk-container-id-2 div.sk-dashed-wrapped {\n",
       "  border: 1px dashed var(--sklearn-color-line);\n",
       "  margin: 0 0.4em 0.5em 0.4em;\n",
       "  box-sizing: border-box;\n",
       "  padding-bottom: 0.4em;\n",
       "  background-color: var(--sklearn-color-background);\n",
       "}\n",
       "\n",
       "#sk-container-id-2 div.sk-container {\n",
       "  /* jupyter's `normalize.less` sets `[hidden] { display: none; }`\n",
       "     but bootstrap.min.css set `[hidden] { display: none !important; }`\n",
       "     so we also need the `!important` here to be able to override the\n",
       "     default hidden behavior on the sphinx rendered scikit-learn.org.\n",
       "     See: https://github.com/scikit-learn/scikit-learn/issues/21755 */\n",
       "  display: inline-block !important;\n",
       "  position: relative;\n",
       "}\n",
       "\n",
       "#sk-container-id-2 div.sk-text-repr-fallback {\n",
       "  display: none;\n",
       "}\n",
       "\n",
       "div.sk-parallel-item,\n",
       "div.sk-serial,\n",
       "div.sk-item {\n",
       "  /* draw centered vertical line to link estimators */\n",
       "  background-image: linear-gradient(var(--sklearn-color-text-on-default-background), var(--sklearn-color-text-on-default-background));\n",
       "  background-size: 2px 100%;\n",
       "  background-repeat: no-repeat;\n",
       "  background-position: center center;\n",
       "}\n",
       "\n",
       "/* Parallel-specific style estimator block */\n",
       "\n",
       "#sk-container-id-2 div.sk-parallel-item::after {\n",
       "  content: \"\";\n",
       "  width: 100%;\n",
       "  border-bottom: 2px solid var(--sklearn-color-text-on-default-background);\n",
       "  flex-grow: 1;\n",
       "}\n",
       "\n",
       "#sk-container-id-2 div.sk-parallel {\n",
       "  display: flex;\n",
       "  align-items: stretch;\n",
       "  justify-content: center;\n",
       "  background-color: var(--sklearn-color-background);\n",
       "  position: relative;\n",
       "}\n",
       "\n",
       "#sk-container-id-2 div.sk-parallel-item {\n",
       "  display: flex;\n",
       "  flex-direction: column;\n",
       "}\n",
       "\n",
       "#sk-container-id-2 div.sk-parallel-item:first-child::after {\n",
       "  align-self: flex-end;\n",
       "  width: 50%;\n",
       "}\n",
       "\n",
       "#sk-container-id-2 div.sk-parallel-item:last-child::after {\n",
       "  align-self: flex-start;\n",
       "  width: 50%;\n",
       "}\n",
       "\n",
       "#sk-container-id-2 div.sk-parallel-item:only-child::after {\n",
       "  width: 0;\n",
       "}\n",
       "\n",
       "/* Serial-specific style estimator block */\n",
       "\n",
       "#sk-container-id-2 div.sk-serial {\n",
       "  display: flex;\n",
       "  flex-direction: column;\n",
       "  align-items: center;\n",
       "  background-color: var(--sklearn-color-background);\n",
       "  padding-right: 1em;\n",
       "  padding-left: 1em;\n",
       "}\n",
       "\n",
       "\n",
       "/* Toggleable style: style used for estimator/Pipeline/ColumnTransformer box that is\n",
       "clickable and can be expanded/collapsed.\n",
       "- Pipeline and ColumnTransformer use this feature and define the default style\n",
       "- Estimators will overwrite some part of the style using the `sk-estimator` class\n",
       "*/\n",
       "\n",
       "/* Pipeline and ColumnTransformer style (default) */\n",
       "\n",
       "#sk-container-id-2 div.sk-toggleable {\n",
       "  /* Default theme specific background. It is overwritten whether we have a\n",
       "  specific estimator or a Pipeline/ColumnTransformer */\n",
       "  background-color: var(--sklearn-color-background);\n",
       "}\n",
       "\n",
       "/* Toggleable label */\n",
       "#sk-container-id-2 label.sk-toggleable__label {\n",
       "  cursor: pointer;\n",
       "  display: flex;\n",
       "  width: 100%;\n",
       "  margin-bottom: 0;\n",
       "  padding: 0.5em;\n",
       "  box-sizing: border-box;\n",
       "  text-align: center;\n",
       "  align-items: start;\n",
       "  justify-content: space-between;\n",
       "  gap: 0.5em;\n",
       "}\n",
       "\n",
       "#sk-container-id-2 label.sk-toggleable__label .caption {\n",
       "  font-size: 0.6rem;\n",
       "  font-weight: lighter;\n",
       "  color: var(--sklearn-color-text-muted);\n",
       "}\n",
       "\n",
       "#sk-container-id-2 label.sk-toggleable__label-arrow:before {\n",
       "  /* Arrow on the left of the label */\n",
       "  content: \"▸\";\n",
       "  float: left;\n",
       "  margin-right: 0.25em;\n",
       "  color: var(--sklearn-color-icon);\n",
       "}\n",
       "\n",
       "#sk-container-id-2 label.sk-toggleable__label-arrow:hover:before {\n",
       "  color: var(--sklearn-color-text);\n",
       "}\n",
       "\n",
       "/* Toggleable content - dropdown */\n",
       "\n",
       "#sk-container-id-2 div.sk-toggleable__content {\n",
       "  max-height: 0;\n",
       "  max-width: 0;\n",
       "  overflow: hidden;\n",
       "  text-align: left;\n",
       "  /* unfitted */\n",
       "  background-color: var(--sklearn-color-unfitted-level-0);\n",
       "}\n",
       "\n",
       "#sk-container-id-2 div.sk-toggleable__content.fitted {\n",
       "  /* fitted */\n",
       "  background-color: var(--sklearn-color-fitted-level-0);\n",
       "}\n",
       "\n",
       "#sk-container-id-2 div.sk-toggleable__content pre {\n",
       "  margin: 0.2em;\n",
       "  border-radius: 0.25em;\n",
       "  color: var(--sklearn-color-text);\n",
       "  /* unfitted */\n",
       "  background-color: var(--sklearn-color-unfitted-level-0);\n",
       "}\n",
       "\n",
       "#sk-container-id-2 div.sk-toggleable__content.fitted pre {\n",
       "  /* unfitted */\n",
       "  background-color: var(--sklearn-color-fitted-level-0);\n",
       "}\n",
       "\n",
       "#sk-container-id-2 input.sk-toggleable__control:checked~div.sk-toggleable__content {\n",
       "  /* Expand drop-down */\n",
       "  max-height: 200px;\n",
       "  max-width: 100%;\n",
       "  overflow: auto;\n",
       "}\n",
       "\n",
       "#sk-container-id-2 input.sk-toggleable__control:checked~label.sk-toggleable__label-arrow:before {\n",
       "  content: \"▾\";\n",
       "}\n",
       "\n",
       "/* Pipeline/ColumnTransformer-specific style */\n",
       "\n",
       "#sk-container-id-2 div.sk-label input.sk-toggleable__control:checked~label.sk-toggleable__label {\n",
       "  color: var(--sklearn-color-text);\n",
       "  background-color: var(--sklearn-color-unfitted-level-2);\n",
       "}\n",
       "\n",
       "#sk-container-id-2 div.sk-label.fitted input.sk-toggleable__control:checked~label.sk-toggleable__label {\n",
       "  background-color: var(--sklearn-color-fitted-level-2);\n",
       "}\n",
       "\n",
       "/* Estimator-specific style */\n",
       "\n",
       "/* Colorize estimator box */\n",
       "#sk-container-id-2 div.sk-estimator input.sk-toggleable__control:checked~label.sk-toggleable__label {\n",
       "  /* unfitted */\n",
       "  background-color: var(--sklearn-color-unfitted-level-2);\n",
       "}\n",
       "\n",
       "#sk-container-id-2 div.sk-estimator.fitted input.sk-toggleable__control:checked~label.sk-toggleable__label {\n",
       "  /* fitted */\n",
       "  background-color: var(--sklearn-color-fitted-level-2);\n",
       "}\n",
       "\n",
       "#sk-container-id-2 div.sk-label label.sk-toggleable__label,\n",
       "#sk-container-id-2 div.sk-label label {\n",
       "  /* The background is the default theme color */\n",
       "  color: var(--sklearn-color-text-on-default-background);\n",
       "}\n",
       "\n",
       "/* On hover, darken the color of the background */\n",
       "#sk-container-id-2 div.sk-label:hover label.sk-toggleable__label {\n",
       "  color: var(--sklearn-color-text);\n",
       "  background-color: var(--sklearn-color-unfitted-level-2);\n",
       "}\n",
       "\n",
       "/* Label box, darken color on hover, fitted */\n",
       "#sk-container-id-2 div.sk-label.fitted:hover label.sk-toggleable__label.fitted {\n",
       "  color: var(--sklearn-color-text);\n",
       "  background-color: var(--sklearn-color-fitted-level-2);\n",
       "}\n",
       "\n",
       "/* Estimator label */\n",
       "\n",
       "#sk-container-id-2 div.sk-label label {\n",
       "  font-family: monospace;\n",
       "  font-weight: bold;\n",
       "  display: inline-block;\n",
       "  line-height: 1.2em;\n",
       "}\n",
       "\n",
       "#sk-container-id-2 div.sk-label-container {\n",
       "  text-align: center;\n",
       "}\n",
       "\n",
       "/* Estimator-specific */\n",
       "#sk-container-id-2 div.sk-estimator {\n",
       "  font-family: monospace;\n",
       "  border: 1px dotted var(--sklearn-color-border-box);\n",
       "  border-radius: 0.25em;\n",
       "  box-sizing: border-box;\n",
       "  margin-bottom: 0.5em;\n",
       "  /* unfitted */\n",
       "  background-color: var(--sklearn-color-unfitted-level-0);\n",
       "}\n",
       "\n",
       "#sk-container-id-2 div.sk-estimator.fitted {\n",
       "  /* fitted */\n",
       "  background-color: var(--sklearn-color-fitted-level-0);\n",
       "}\n",
       "\n",
       "/* on hover */\n",
       "#sk-container-id-2 div.sk-estimator:hover {\n",
       "  /* unfitted */\n",
       "  background-color: var(--sklearn-color-unfitted-level-2);\n",
       "}\n",
       "\n",
       "#sk-container-id-2 div.sk-estimator.fitted:hover {\n",
       "  /* fitted */\n",
       "  background-color: var(--sklearn-color-fitted-level-2);\n",
       "}\n",
       "\n",
       "/* Specification for estimator info (e.g. \"i\" and \"?\") */\n",
       "\n",
       "/* Common style for \"i\" and \"?\" */\n",
       "\n",
       ".sk-estimator-doc-link,\n",
       "a:link.sk-estimator-doc-link,\n",
       "a:visited.sk-estimator-doc-link {\n",
       "  float: right;\n",
       "  font-size: smaller;\n",
       "  line-height: 1em;\n",
       "  font-family: monospace;\n",
       "  background-color: var(--sklearn-color-background);\n",
       "  border-radius: 1em;\n",
       "  height: 1em;\n",
       "  width: 1em;\n",
       "  text-decoration: none !important;\n",
       "  margin-left: 0.5em;\n",
       "  text-align: center;\n",
       "  /* unfitted */\n",
       "  border: var(--sklearn-color-unfitted-level-1) 1pt solid;\n",
       "  color: var(--sklearn-color-unfitted-level-1);\n",
       "}\n",
       "\n",
       ".sk-estimator-doc-link.fitted,\n",
       "a:link.sk-estimator-doc-link.fitted,\n",
       "a:visited.sk-estimator-doc-link.fitted {\n",
       "  /* fitted */\n",
       "  border: var(--sklearn-color-fitted-level-1) 1pt solid;\n",
       "  color: var(--sklearn-color-fitted-level-1);\n",
       "}\n",
       "\n",
       "/* On hover */\n",
       "div.sk-estimator:hover .sk-estimator-doc-link:hover,\n",
       ".sk-estimator-doc-link:hover,\n",
       "div.sk-label-container:hover .sk-estimator-doc-link:hover,\n",
       ".sk-estimator-doc-link:hover {\n",
       "  /* unfitted */\n",
       "  background-color: var(--sklearn-color-unfitted-level-3);\n",
       "  color: var(--sklearn-color-background);\n",
       "  text-decoration: none;\n",
       "}\n",
       "\n",
       "div.sk-estimator.fitted:hover .sk-estimator-doc-link.fitted:hover,\n",
       ".sk-estimator-doc-link.fitted:hover,\n",
       "div.sk-label-container:hover .sk-estimator-doc-link.fitted:hover,\n",
       ".sk-estimator-doc-link.fitted:hover {\n",
       "  /* fitted */\n",
       "  background-color: var(--sklearn-color-fitted-level-3);\n",
       "  color: var(--sklearn-color-background);\n",
       "  text-decoration: none;\n",
       "}\n",
       "\n",
       "/* Span, style for the box shown on hovering the info icon */\n",
       ".sk-estimator-doc-link span {\n",
       "  display: none;\n",
       "  z-index: 9999;\n",
       "  position: relative;\n",
       "  font-weight: normal;\n",
       "  right: .2ex;\n",
       "  padding: .5ex;\n",
       "  margin: .5ex;\n",
       "  width: min-content;\n",
       "  min-width: 20ex;\n",
       "  max-width: 50ex;\n",
       "  color: var(--sklearn-color-text);\n",
       "  box-shadow: 2pt 2pt 4pt #999;\n",
       "  /* unfitted */\n",
       "  background: var(--sklearn-color-unfitted-level-0);\n",
       "  border: .5pt solid var(--sklearn-color-unfitted-level-3);\n",
       "}\n",
       "\n",
       ".sk-estimator-doc-link.fitted span {\n",
       "  /* fitted */\n",
       "  background: var(--sklearn-color-fitted-level-0);\n",
       "  border: var(--sklearn-color-fitted-level-3);\n",
       "}\n",
       "\n",
       ".sk-estimator-doc-link:hover span {\n",
       "  display: block;\n",
       "}\n",
       "\n",
       "/* \"?\"-specific style due to the `<a>` HTML tag */\n",
       "\n",
       "#sk-container-id-2 a.estimator_doc_link {\n",
       "  float: right;\n",
       "  font-size: 1rem;\n",
       "  line-height: 1em;\n",
       "  font-family: monospace;\n",
       "  background-color: var(--sklearn-color-background);\n",
       "  border-radius: 1rem;\n",
       "  height: 1rem;\n",
       "  width: 1rem;\n",
       "  text-decoration: none;\n",
       "  /* unfitted */\n",
       "  color: var(--sklearn-color-unfitted-level-1);\n",
       "  border: var(--sklearn-color-unfitted-level-1) 1pt solid;\n",
       "}\n",
       "\n",
       "#sk-container-id-2 a.estimator_doc_link.fitted {\n",
       "  /* fitted */\n",
       "  border: var(--sklearn-color-fitted-level-1) 1pt solid;\n",
       "  color: var(--sklearn-color-fitted-level-1);\n",
       "}\n",
       "\n",
       "/* On hover */\n",
       "#sk-container-id-2 a.estimator_doc_link:hover {\n",
       "  /* unfitted */\n",
       "  background-color: var(--sklearn-color-unfitted-level-3);\n",
       "  color: var(--sklearn-color-background);\n",
       "  text-decoration: none;\n",
       "}\n",
       "\n",
       "#sk-container-id-2 a.estimator_doc_link.fitted:hover {\n",
       "  /* fitted */\n",
       "  background-color: var(--sklearn-color-fitted-level-3);\n",
       "}\n",
       "</style><div id=\"sk-container-id-2\" class=\"sk-top-container\"><div class=\"sk-text-repr-fallback\"><pre>RandomForestRegressor(max_depth=30, max_features=&#x27;sqrt&#x27;, n_estimators=200,\n",
       "                      n_jobs=-1, random_state=21)</pre><b>In a Jupyter environment, please rerun this cell to show the HTML representation or trust the notebook. <br />On GitHub, the HTML representation is unable to render, please try loading this page with nbviewer.org.</b></div><div class=\"sk-container\" hidden><div class=\"sk-item\"><div class=\"sk-estimator  sk-toggleable\"><input class=\"sk-toggleable__control sk-hidden--visually\" id=\"sk-estimator-id-2\" type=\"checkbox\" checked><label for=\"sk-estimator-id-2\" class=\"sk-toggleable__label  sk-toggleable__label-arrow\"><div><div>RandomForestRegressor</div></div><div><a class=\"sk-estimator-doc-link \" rel=\"noreferrer\" target=\"_blank\" href=\"https://scikit-learn.org/1.6/modules/generated/sklearn.ensemble.RandomForestRegressor.html\">?<span>Documentation for RandomForestRegressor</span></a><span class=\"sk-estimator-doc-link \">i<span>Not fitted</span></span></div></label><div class=\"sk-toggleable__content \"><pre>RandomForestRegressor(max_depth=30, max_features=&#x27;sqrt&#x27;, n_estimators=200,\n",
       "                      n_jobs=-1, random_state=21)</pre></div> </div></div></div></div>"
      ],
      "text/plain": [
       "RandomForestRegressor(max_depth=30, max_features='sqrt', n_estimators=200,\n",
       "                      n_jobs=-1, random_state=21)"
      ]
     },
     "execution_count": 52,
     "metadata": {},
     "output_type": "execute_result"
    }
   ],
   "source": [
    "RandomForestRegressor_model=RandomForestRegressor(random_state=21, n_jobs=-1)\n",
    "RandomForestRegressor_model.set_params(**(result_serching.iloc[0]['params']))\n"
   ]
  },
  {
   "cell_type": "markdown",
   "id": "d1b0abaa",
   "metadata": {},
   "source": [
    "lets try do model that classifays on regression purpose "
   ]
  },
  {
   "cell_type": "code",
   "execution_count": null,
   "id": "968357d8",
   "metadata": {},
   "outputs": [
    {
     "ename": "NameError",
     "evalue": "name 'RandomForestRegressor_model' is not defined",
     "output_type": "error",
     "traceback": [
      "\u001b[31m---------------------------------------------------------------------------\u001b[39m",
      "\u001b[31mNameError\u001b[39m                                 Traceback (most recent call last)",
      "\u001b[36mCell\u001b[39m\u001b[36m \u001b[39m\u001b[32mIn[33]\u001b[39m\u001b[32m, line 21\u001b[39m\n\u001b[32m     19\u001b[39m     \u001b[38;5;28;01mdef\u001b[39;00m\u001b[38;5;250m \u001b[39m\u001b[34mpredict_proba\u001b[39m(\u001b[38;5;28mself\u001b[39m, X):\n\u001b[32m     20\u001b[39m         \u001b[38;5;28;01mraise\u001b[39;00m \u001b[38;5;167;01mNotImplementedError\u001b[39;00m(\u001b[33m\"\u001b[39m\u001b[33mpredict_proba is not implemented for this classifier\u001b[39m\u001b[33m\"\u001b[39m)\n\u001b[32m---> \u001b[39m\u001b[32m21\u001b[39m regresRegressionToClassifier = RegressionToClassifier(\u001b[43mRandomForestRegressor_model\u001b[49m)\n\u001b[32m     22\u001b[39m regresRegressionToClassifier.fit(X_comb,y_comb)\n\u001b[32m     23\u001b[39m y_test_classification=rating_to_сat(y_test)\n",
      "\u001b[31mNameError\u001b[39m: name 'RandomForestRegressor_model' is not defined"
     ]
    }
   ],
   "source": [
    "def rating_to_сat(y):\n",
    "    bins = [0, 2, 4, 6]\n",
    "    labels = ['bad', 'so-so', 'great']\n",
    "    return pd.cut(y, bins=bins, labels=labels).astype(str)\n",
    "class RegressionToClassifier(BaseEstimator, ClassifierMixin):\n",
    "    def __init__(self, regressor=None, bins=[0, 2, 4, 6], labels=['bad', 'so-so', 'great']):\n",
    "        self.regressor = regressor if regressor is not None else RandomForestRegressor()\n",
    "        self.bins = bins\n",
    "        self.labels = labels\n",
    "    \n",
    "    def fit(self, X, y):\n",
    "        self.regressor.fit(X, y)\n",
    "        return self\n",
    "    \n",
    "    def predict(self, X):\n",
    "        y_pred = self.regressor.predict(X)\n",
    "        return pd.cut(y_pred, bins=self.bins, labels=self.labels, include_lowest=True)\n",
    "    \n",
    "    def predict_proba(self, X):\n",
    "        raise NotImplementedError(\"predict_proba is not implemented for this classifier\")\n",
    "regresRegressionToClassifier = RegressionToClassifier(RandomForestRegressor_model)\n",
    "regresRegressionToClassifier.fit(X_comb,y_comb)\n",
    "y_test_classification=rating_to_сat(y_test)\n",
    "y_pred=regresRegressionToClassifier.predict(X_test)\n",
    "accuracy_score(y_test_classification,y_pred)\n"
   ]
  },
  {
   "cell_type": "markdown",
   "id": "e0688488",
   "metadata": {},
   "source": [
    "very low accuracy, we cant take those model"
   ]
  },
  {
   "cell_type": "markdown",
   "id": "8012c45c",
   "metadata": {},
   "source": [
    "# classification"
   ]
  },
  {
   "cell_type": "markdown",
   "id": "076307d0",
   "metadata": {},
   "source": [
    "prepare data to classification"
   ]
  },
  {
   "cell_type": "code",
   "execution_count": null,
   "id": "227cf4c0",
   "metadata": {},
   "outputs": [],
   "source": [
    "from sklearn.metrics import classification_report\n",
    "def closest_int(y):\n",
    "    return y.round().astype(int)\n",
    "\n",
    "scoring='accuracy'\n",
    "\n",
    "\n",
    "splitter = TrainValidationTest(stratified=False)\n",
    "X_train, X_valid, X_test, y_train, y_valid, y_test = splitter.split(X, closest_int(y))\n",
    "X_comb=pd.concat([X_train, X_valid], axis=0, ignore_index=True)\n",
    "y_comb=np.concatenate([y_train, y_valid]) \n",
    "y_comb=pd.DataFrame(y_comb)"
   ]
  },
  {
   "cell_type": "markdown",
   "id": "30ce0295",
   "metadata": {},
   "source": [
    "diffrent models variants"
   ]
  },
  {
   "cell_type": "code",
   "execution_count": null,
   "id": "2b2ce574",
   "metadata": {},
   "outputs": [],
   "source": [
    "from sklearn.ensemble import RandomForestClassifier, GradientBoostingClassifier, BaggingClassifier\n",
    "from xgboost import XGBClassifier\n",
    "from catboost import CatBoostClassifier\n",
    "\n",
    "estimators = [\n",
    "    RandomForestClassifier(random_state=21, n_jobs=-1),\n",
    "    GradientBoostingClassifier(random_state=21),\n",
    "    BaggingClassifier(random_state=21, n_jobs=-1),\n",
    "    XGBClassifier(random_state=21, n_jobs=-1),\n",
    "    CatBoostClassifier(random_state=21, verbose=0)\n",
    "]\n",
    "\n",
    "estimators_name = [\n",
    "    'RandomForest',\n",
    "    'GradientBoosting',\n",
    "    'Bagging',\n",
    "    'XGBoost',\n",
    "    'CatBoost'\n",
    "]\n",
    "\n",
    "grid_dict = {\n",
    "    'RandomForest': {\n",
    "        'n_estimators': [100, 200, 300],\n",
    "        'max_depth': [10, 20, 30, None],\n",
    "        'min_samples_split': [2, 5, 10],\n",
    "        'max_features': ['sqrt', 'log2'],\n",
    "        'class_weight': ['balanced', None]\n",
    "    },\n",
    "    'GradientBoosting': {\n",
    "        'n_estimators': [100, 200],\n",
    "        'learning_rate': [0.01, 0.1],\n",
    "        'max_depth': [3, 5],\n",
    "        'subsample': [0.8, 1.0]\n",
    "    },\n",
    "    'Bagging': {\n",
    "        'n_estimators': [10, 50, 100],\n",
    "        'max_samples': [0.5, 0.8, 1.0],\n",
    "        'max_features': [0.5, 0.8, 1.0],\n",
    "        'bootstrap': [True, False]\n",
    "    },\n",
    "    'XGBoost': {\n",
    "        'n_estimators': [100, 200],\n",
    "        'max_depth': [3, 6],\n",
    "        'learning_rate': [0.01, 0.1],\n",
    "        'subsample': [0.8, 1.0],\n",
    "        'colsample_bytree': [0.8, 1.0]\n",
    "    },\n",
    "    'CatBoost': {\n",
    "        'iterations': [100, 200],\n",
    "        'depth': [4, 6, 8],\n",
    "        'learning_rate': [0.01, 0.1]\n",
    "    }\n",
    "}"
   ]
  },
  {
   "cell_type": "markdown",
   "id": "9c39e05e",
   "metadata": {},
   "source": [
    "search best model"
   ]
  },
  {
   "cell_type": "markdown",
   "id": "b77a07ea",
   "metadata": {},
   "source": [
    "I took the precision_weighted metric because it minimizes false positives (for example, bad predicted as great)."
   ]
  },
  {
   "cell_type": "code",
   "execution_count": null,
   "id": "dafe0ee5",
   "metadata": {},
   "outputs": [
    {
     "data": {
      "application/vnd.jupyter.widget-view+json": {
       "model_id": "8fc4863f350f4f61bdf3210503816159",
       "version_major": 2,
       "version_minor": 0
      },
      "text/plain": [
       "GridSearch:   0%|          | 0/144 [00:00<?, ?it/s]"
      ]
     },
     "metadata": {},
     "output_type": "display_data"
    }
   ],
   "source": [
    "search_parametrs= ModelSelection(estimators,estimators_name, grid_dict, scoring='precision_weighted')\n",
    "result_serching=search_parametrs.choose(X_train, y_train, X_valid, y_valid)"
   ]
  },
  {
   "cell_type": "markdown",
   "id": "0bfaf8b3",
   "metadata": {},
   "source": [
    "Let's look closely at the results."
   ]
  },
  {
   "cell_type": "code",
   "execution_count": null,
   "id": "58f77f9a",
   "metadata": {},
   "outputs": [
    {
     "data": {
      "text/html": [
       "<div>\n",
       "<style scoped>\n",
       "    .dataframe tbody tr th:only-of-type {\n",
       "        vertical-align: middle;\n",
       "    }\n",
       "\n",
       "    .dataframe tbody tr th {\n",
       "        vertical-align: top;\n",
       "    }\n",
       "\n",
       "    .dataframe thead th {\n",
       "        text-align: right;\n",
       "    }\n",
       "</style>\n",
       "<table border=\"1\" class=\"dataframe\">\n",
       "  <thead>\n",
       "    <tr style=\"text-align: right;\">\n",
       "      <th></th>\n",
       "      <th>train_score</th>\n",
       "      <th>valid_score</th>\n",
       "      <th>params</th>\n",
       "      <th>model</th>\n",
       "    </tr>\n",
       "  </thead>\n",
       "  <tbody>\n",
       "    <tr>\n",
       "      <th>160</th>\n",
       "      <td>0.624704</td>\n",
       "      <td>0.702236</td>\n",
       "      <td>{'n_estimators': 100, 'max_samples': 0.5, 'max...</td>\n",
       "      <td>Bagging</td>\n",
       "    </tr>\n",
       "    <tr>\n",
       "      <th>161</th>\n",
       "      <td>0.603932</td>\n",
       "      <td>0.697244</td>\n",
       "      <td>{'n_estimators': 50, 'max_samples': 0.5, 'max_...</td>\n",
       "      <td>Bagging</td>\n",
       "    </tr>\n",
       "    <tr>\n",
       "      <th>162</th>\n",
       "      <td>0.600952</td>\n",
       "      <td>0.694620</td>\n",
       "      <td>{'n_estimators': 100, 'max_samples': 0.8, 'max...</td>\n",
       "      <td>Bagging</td>\n",
       "    </tr>\n",
       "    <tr>\n",
       "      <th>163</th>\n",
       "      <td>0.585675</td>\n",
       "      <td>0.693701</td>\n",
       "      <td>{'n_estimators': 100, 'max_samples': 0.5, 'max...</td>\n",
       "      <td>Bagging</td>\n",
       "    </tr>\n",
       "    <tr>\n",
       "      <th>164</th>\n",
       "      <td>0.626492</td>\n",
       "      <td>0.688314</td>\n",
       "      <td>{'n_estimators': 100, 'max_samples': 0.8, 'max...</td>\n",
       "      <td>Bagging</td>\n",
       "    </tr>\n",
       "  </tbody>\n",
       "</table>\n",
       "</div>"
      ],
      "text/plain": [
       "     train_score  valid_score  \\\n",
       "160     0.624704     0.702236   \n",
       "161     0.603932     0.697244   \n",
       "162     0.600952     0.694620   \n",
       "163     0.585675     0.693701   \n",
       "164     0.626492     0.688314   \n",
       "\n",
       "                                                params    model  \n",
       "160  {'n_estimators': 100, 'max_samples': 0.5, 'max...  Bagging  \n",
       "161  {'n_estimators': 50, 'max_samples': 0.5, 'max_...  Bagging  \n",
       "162  {'n_estimators': 100, 'max_samples': 0.8, 'max...  Bagging  \n",
       "163  {'n_estimators': 100, 'max_samples': 0.5, 'max...  Bagging  \n",
       "164  {'n_estimators': 100, 'max_samples': 0.8, 'max...  Bagging  "
      ]
     },
     "execution_count": 57,
     "metadata": {},
     "output_type": "execute_result"
    }
   ],
   "source": [
    "result_serching.head()"
   ]
  },
  {
   "cell_type": "markdown",
   "id": "d1c8b1cb",
   "metadata": {},
   "source": [
    "lets take a look on diffrent scoring"
   ]
  },
  {
   "cell_type": "code",
   "execution_count": null,
   "id": "90211aab",
   "metadata": {},
   "outputs": [
    {
     "name": "stdout",
     "output_type": "stream",
     "text": [
      "the final score is : 0.6826227873348292\n"
     ]
    }
   ],
   "source": [
    "best_classifacation_int=estimators[estimators_name.index(result_serching.iloc[0]['model'])]\n",
    "params=result_serching.iloc[0]['params']\n",
    "fit_score(best_classifacation_int, params, X_comb,y_comb, X_test,y_test, scoring=\"accuracy\")\n"
   ]
  },
  {
   "cell_type": "code",
   "execution_count": null,
   "id": "67c0142e",
   "metadata": {},
   "outputs": [],
   "source": [
    "def calc_scores(estimators, estimators_name, result_serching, scorings):\n",
    "    result_df = pd.DataFrame(columns=['model', 'params'] + scorings)\n",
    "    \n",
    "    for row in result_serching.itertuples():\n",
    "        estimator = estimators[estimators_name.index(row.model)]\n",
    "        estimator.set_params(**(row.params))\n",
    "        estimator.fit(X_comb, y_comb)\n",
    "        model_results = {\n",
    "            'model': row.model,\n",
    "            'params': row.params\n",
    "        }\n",
    "        \n",
    "        for scoring in scorings:\n",
    "            scorer = get_scorer(scoring)\n",
    "            score = scorer(estimator, X_test, y_test)\n",
    "            model_results[scoring] = score\n",
    "        \n",
    "        result_df = pd.concat([result_df, pd.DataFrame([model_results])], ignore_index=True)\n",
    "    \n",
    "    return result_df\n",
    "\n",
    "\n",
    "scorings = [\n",
    "    'accuracy',\n",
    "    'precision_weighted',\n",
    "    'recall_weighted',\n",
    "    'f1_weighted',\n",
    "    'balanced_accuracy',\n",
    "]"
   ]
  },
  {
   "cell_type": "code",
   "execution_count": null,
   "id": "23cf4ba7",
   "metadata": {},
   "outputs": [
    {
     "name": "stderr",
     "output_type": "stream",
     "text": [
      "/tmp/ipykernel_108443/1404889253.py:18: FutureWarning: The behavior of DataFrame concatenation with empty or all-NA entries is deprecated. In a future version, this will no longer exclude empty or all-NA columns when determining the result dtypes. To retain the old behavior, exclude the relevant entries before the concat operation.\n",
      "  result_df = pd.concat([result_df, pd.DataFrame([model_results])], ignore_index=True)\n"
     ]
    },
    {
     "data": {
      "text/html": [
       "<div>\n",
       "<style scoped>\n",
       "    .dataframe tbody tr th:only-of-type {\n",
       "        vertical-align: middle;\n",
       "    }\n",
       "\n",
       "    .dataframe tbody tr th {\n",
       "        vertical-align: top;\n",
       "    }\n",
       "\n",
       "    .dataframe thead th {\n",
       "        text-align: right;\n",
       "    }\n",
       "</style>\n",
       "<table border=\"1\" class=\"dataframe\">\n",
       "  <thead>\n",
       "    <tr style=\"text-align: right;\">\n",
       "      <th></th>\n",
       "      <th>model</th>\n",
       "      <th>params</th>\n",
       "      <th>accuracy</th>\n",
       "      <th>precision_weighted</th>\n",
       "      <th>recall_weighted</th>\n",
       "      <th>f1_weighted</th>\n",
       "      <th>balanced_accuracy</th>\n",
       "    </tr>\n",
       "  </thead>\n",
       "  <tbody>\n",
       "    <tr>\n",
       "      <th>0</th>\n",
       "      <td>Bagging</td>\n",
       "      <td>{'n_estimators': 100, 'max_samples': 0.5, 'max...</td>\n",
       "      <td>0.682623</td>\n",
       "      <td>0.726837</td>\n",
       "      <td>0.682623</td>\n",
       "      <td>0.570858</td>\n",
       "      <td>0.200791</td>\n",
       "    </tr>\n",
       "    <tr>\n",
       "      <th>1</th>\n",
       "      <td>Bagging</td>\n",
       "      <td>{'n_estimators': 50, 'max_samples': 0.5, 'max_...</td>\n",
       "      <td>0.683371</td>\n",
       "      <td>0.727376</td>\n",
       "      <td>0.683371</td>\n",
       "      <td>0.572810</td>\n",
       "      <td>0.201420</td>\n",
       "    </tr>\n",
       "    <tr>\n",
       "      <th>2</th>\n",
       "      <td>Bagging</td>\n",
       "      <td>{'n_estimators': 100, 'max_samples': 0.8, 'max...</td>\n",
       "      <td>0.689853</td>\n",
       "      <td>0.729313</td>\n",
       "      <td>0.689853</td>\n",
       "      <td>0.586798</td>\n",
       "      <td>0.215287</td>\n",
       "    </tr>\n",
       "    <tr>\n",
       "      <th>3</th>\n",
       "      <td>Bagging</td>\n",
       "      <td>{'n_estimators': 100, 'max_samples': 0.5, 'max...</td>\n",
       "      <td>0.680130</td>\n",
       "      <td>0.689404</td>\n",
       "      <td>0.680130</td>\n",
       "      <td>0.564723</td>\n",
       "      <td>0.194377</td>\n",
       "    </tr>\n",
       "    <tr>\n",
       "      <th>4</th>\n",
       "      <td>Bagging</td>\n",
       "      <td>{'n_estimators': 100, 'max_samples': 0.8, 'max...</td>\n",
       "      <td>0.683121</td>\n",
       "      <td>0.722583</td>\n",
       "      <td>0.683121</td>\n",
       "      <td>0.571837</td>\n",
       "      <td>0.201688</td>\n",
       "    </tr>\n",
       "    <tr>\n",
       "      <th>5</th>\n",
       "      <td>Bagging</td>\n",
       "      <td>{'n_estimators': 50, 'max_samples': 1.0, 'max_...</td>\n",
       "      <td>0.684368</td>\n",
       "      <td>0.726429</td>\n",
       "      <td>0.684368</td>\n",
       "      <td>0.575040</td>\n",
       "      <td>0.203695</td>\n",
       "    </tr>\n",
       "    <tr>\n",
       "      <th>6</th>\n",
       "      <td>RandomForest</td>\n",
       "      <td>{'n_estimators': 100, 'max_depth': 30, 'min_sa...</td>\n",
       "      <td>0.675143</td>\n",
       "      <td>0.616296</td>\n",
       "      <td>0.675143</td>\n",
       "      <td>0.550190</td>\n",
       "      <td>0.175800</td>\n",
       "    </tr>\n",
       "    <tr>\n",
       "      <th>7</th>\n",
       "      <td>RandomForest</td>\n",
       "      <td>{'n_estimators': 200, 'max_depth': 30, 'min_sa...</td>\n",
       "      <td>0.675642</td>\n",
       "      <td>0.607195</td>\n",
       "      <td>0.675642</td>\n",
       "      <td>0.551360</td>\n",
       "      <td>0.176607</td>\n",
       "    </tr>\n",
       "  </tbody>\n",
       "</table>\n",
       "</div>"
      ],
      "text/plain": [
       "          model                                             params  accuracy  \\\n",
       "0       Bagging  {'n_estimators': 100, 'max_samples': 0.5, 'max...  0.682623   \n",
       "1       Bagging  {'n_estimators': 50, 'max_samples': 0.5, 'max_...  0.683371   \n",
       "2       Bagging  {'n_estimators': 100, 'max_samples': 0.8, 'max...  0.689853   \n",
       "3       Bagging  {'n_estimators': 100, 'max_samples': 0.5, 'max...  0.680130   \n",
       "4       Bagging  {'n_estimators': 100, 'max_samples': 0.8, 'max...  0.683121   \n",
       "5       Bagging  {'n_estimators': 50, 'max_samples': 1.0, 'max_...  0.684368   \n",
       "6  RandomForest  {'n_estimators': 100, 'max_depth': 30, 'min_sa...  0.675143   \n",
       "7  RandomForest  {'n_estimators': 200, 'max_depth': 30, 'min_sa...  0.675642   \n",
       "\n",
       "   precision_weighted  recall_weighted  f1_weighted  balanced_accuracy  \n",
       "0            0.726837         0.682623     0.570858           0.200791  \n",
       "1            0.727376         0.683371     0.572810           0.201420  \n",
       "2            0.729313         0.689853     0.586798           0.215287  \n",
       "3            0.689404         0.680130     0.564723           0.194377  \n",
       "4            0.722583         0.683121     0.571837           0.201688  \n",
       "5            0.726429         0.684368     0.575040           0.203695  \n",
       "6            0.616296         0.675143     0.550190           0.175800  \n",
       "7            0.607195         0.675642     0.551360           0.176607  "
      ]
     },
     "execution_count": 60,
     "metadata": {},
     "output_type": "execute_result"
    }
   ],
   "source": [
    "calc_scores(estimators, estimators_name, result_serching.head(8), scorings)\n"
   ]
  },
  {
   "cell_type": "markdown",
   "id": "4c92cce6",
   "metadata": {},
   "source": [
    "now lets binarize the target column by converting the integers to classes ‘bad’ (0, 1), ‘so-so’ (2, 3), ‘great’ (4, 5)."
   ]
  },
  {
   "cell_type": "code",
   "execution_count": null,
   "id": "d77e2792",
   "metadata": {},
   "outputs": [],
   "source": [
    "coverted_classes_y=pd.cut(closest_int(y), bins = [-1, 1, 3, 5], labels = [0, 1, 2])\n",
    "\n",
    "splitter = TrainValidationTest(stratified=False)\n",
    "X_train, X_valid, X_test, y_train, y_valid, y_test = splitter.split(X, coverted_classes_y)\n",
    "X_comb=pd.concat([X_train, X_valid], axis=0, ignore_index=True)\n",
    "y_comb=pd.concat([y_train, y_valid], axis=0, ignore_index=True)"
   ]
  },
  {
   "cell_type": "code",
   "execution_count": null,
   "id": "aa0dedcd",
   "metadata": {},
   "outputs": [
    {
     "data": {
      "application/vnd.jupyter.widget-view+json": {
       "model_id": "3e511a4f2ca3445e830ca8e9b952ffaa",
       "version_major": 2,
       "version_minor": 0
      },
      "text/plain": [
       "GridSearch:   0%|          | 0/144 [00:00<?, ?it/s]"
      ]
     },
     "metadata": {},
     "output_type": "display_data"
    },
    {
     "name": "stderr",
     "output_type": "stream",
     "text": [
      "/home/boobs/projects/school21/DS_Bootcamp.Team01.ID_886525-Team_TL_shirledo.396ad497_d1b1_4d29-1/src/venv/lib/python3.12/site-packages/sklearn/metrics/_classification.py:1565: UndefinedMetricWarning: Precision is ill-defined and being set to 0.0 in labels with no predicted samples. Use `zero_division` parameter to control this behavior.\n",
      "  _warn_prf(average, modifier, f\"{metric.capitalize()} is\", len(result))\n",
      "/home/boobs/projects/school21/DS_Bootcamp.Team01.ID_886525-Team_TL_shirledo.396ad497_d1b1_4d29-1/src/venv/lib/python3.12/site-packages/sklearn/metrics/_classification.py:1565: UndefinedMetricWarning: Precision is ill-defined and being set to 0.0 in labels with no predicted samples. Use `zero_division` parameter to control this behavior.\n",
      "  _warn_prf(average, modifier, f\"{metric.capitalize()} is\", len(result))\n",
      "/home/boobs/projects/school21/DS_Bootcamp.Team01.ID_886525-Team_TL_shirledo.396ad497_d1b1_4d29-1/src/venv/lib/python3.12/site-packages/sklearn/metrics/_classification.py:1565: UndefinedMetricWarning: Precision is ill-defined and being set to 0.0 in labels with no predicted samples. Use `zero_division` parameter to control this behavior.\n",
      "  _warn_prf(average, modifier, f\"{metric.capitalize()} is\", len(result))\n",
      "/home/boobs/projects/school21/DS_Bootcamp.Team01.ID_886525-Team_TL_shirledo.396ad497_d1b1_4d29-1/src/venv/lib/python3.12/site-packages/sklearn/metrics/_classification.py:1565: UndefinedMetricWarning: Precision is ill-defined and being set to 0.0 in labels with no predicted samples. Use `zero_division` parameter to control this behavior.\n",
      "  _warn_prf(average, modifier, f\"{metric.capitalize()} is\", len(result))\n",
      "/home/boobs/projects/school21/DS_Bootcamp.Team01.ID_886525-Team_TL_shirledo.396ad497_d1b1_4d29-1/src/venv/lib/python3.12/site-packages/sklearn/metrics/_classification.py:1565: UndefinedMetricWarning: Precision is ill-defined and being set to 0.0 in labels with no predicted samples. Use `zero_division` parameter to control this behavior.\n",
      "  _warn_prf(average, modifier, f\"{metric.capitalize()} is\", len(result))\n",
      "/home/boobs/projects/school21/DS_Bootcamp.Team01.ID_886525-Team_TL_shirledo.396ad497_d1b1_4d29-1/src/venv/lib/python3.12/site-packages/sklearn/metrics/_classification.py:1565: UndefinedMetricWarning: Precision is ill-defined and being set to 0.0 in labels with no predicted samples. Use `zero_division` parameter to control this behavior.\n",
      "  _warn_prf(average, modifier, f\"{metric.capitalize()} is\", len(result))\n",
      "/home/boobs/projects/school21/DS_Bootcamp.Team01.ID_886525-Team_TL_shirledo.396ad497_d1b1_4d29-1/src/venv/lib/python3.12/site-packages/sklearn/metrics/_classification.py:1565: UndefinedMetricWarning: Precision is ill-defined and being set to 0.0 in labels with no predicted samples. Use `zero_division` parameter to control this behavior.\n",
      "  _warn_prf(average, modifier, f\"{metric.capitalize()} is\", len(result))\n",
      "/home/boobs/projects/school21/DS_Bootcamp.Team01.ID_886525-Team_TL_shirledo.396ad497_d1b1_4d29-1/src/venv/lib/python3.12/site-packages/sklearn/metrics/_classification.py:1565: UndefinedMetricWarning: Precision is ill-defined and being set to 0.0 in labels with no predicted samples. Use `zero_division` parameter to control this behavior.\n",
      "  _warn_prf(average, modifier, f\"{metric.capitalize()} is\", len(result))\n",
      "/home/boobs/projects/school21/DS_Bootcamp.Team01.ID_886525-Team_TL_shirledo.396ad497_d1b1_4d29-1/src/venv/lib/python3.12/site-packages/sklearn/metrics/_classification.py:1565: UndefinedMetricWarning: Precision is ill-defined and being set to 0.0 in labels with no predicted samples. Use `zero_division` parameter to control this behavior.\n",
      "  _warn_prf(average, modifier, f\"{metric.capitalize()} is\", len(result))\n",
      "/home/boobs/projects/school21/DS_Bootcamp.Team01.ID_886525-Team_TL_shirledo.396ad497_d1b1_4d29-1/src/venv/lib/python3.12/site-packages/sklearn/metrics/_classification.py:1565: UndefinedMetricWarning: Precision is ill-defined and being set to 0.0 in labels with no predicted samples. Use `zero_division` parameter to control this behavior.\n",
      "  _warn_prf(average, modifier, f\"{metric.capitalize()} is\", len(result))\n",
      "/home/boobs/projects/school21/DS_Bootcamp.Team01.ID_886525-Team_TL_shirledo.396ad497_d1b1_4d29-1/src/venv/lib/python3.12/site-packages/sklearn/metrics/_classification.py:1565: UndefinedMetricWarning: Precision is ill-defined and being set to 0.0 in labels with no predicted samples. Use `zero_division` parameter to control this behavior.\n",
      "  _warn_prf(average, modifier, f\"{metric.capitalize()} is\", len(result))\n",
      "/home/boobs/projects/school21/DS_Bootcamp.Team01.ID_886525-Team_TL_shirledo.396ad497_d1b1_4d29-1/src/venv/lib/python3.12/site-packages/sklearn/metrics/_classification.py:1565: UndefinedMetricWarning: Precision is ill-defined and being set to 0.0 in labels with no predicted samples. Use `zero_division` parameter to control this behavior.\n",
      "  _warn_prf(average, modifier, f\"{metric.capitalize()} is\", len(result))\n",
      "/home/boobs/projects/school21/DS_Bootcamp.Team01.ID_886525-Team_TL_shirledo.396ad497_d1b1_4d29-1/src/venv/lib/python3.12/site-packages/sklearn/metrics/_classification.py:1565: UndefinedMetricWarning: Precision is ill-defined and being set to 0.0 in labels with no predicted samples. Use `zero_division` parameter to control this behavior.\n",
      "  _warn_prf(average, modifier, f\"{metric.capitalize()} is\", len(result))\n",
      "/home/boobs/projects/school21/DS_Bootcamp.Team01.ID_886525-Team_TL_shirledo.396ad497_d1b1_4d29-1/src/venv/lib/python3.12/site-packages/sklearn/metrics/_classification.py:1565: UndefinedMetricWarning: Precision is ill-defined and being set to 0.0 in labels with no predicted samples. Use `zero_division` parameter to control this behavior.\n",
      "  _warn_prf(average, modifier, f\"{metric.capitalize()} is\", len(result))\n"
     ]
    },
    {
     "ename": "KeyboardInterrupt",
     "evalue": "",
     "output_type": "error",
     "traceback": [
      "\u001b[31m---------------------------------------------------------------------------\u001b[39m",
      "\u001b[31mKeyboardInterrupt\u001b[39m                         Traceback (most recent call last)",
      "\u001b[36mCell\u001b[39m\u001b[36m \u001b[39m\u001b[32mIn[81]\u001b[39m\u001b[32m, line 2\u001b[39m\n\u001b[32m      1\u001b[39m search_parametrs= ModelSelection(estimators,estimators_name, grid_dict, scoring=\u001b[33m'\u001b[39m\u001b[33mprecision_weighted\u001b[39m\u001b[33m'\u001b[39m)\n\u001b[32m----> \u001b[39m\u001b[32m2\u001b[39m result_serching=\u001b[43msearch_parametrs\u001b[49m\u001b[43m.\u001b[49m\u001b[43mchoose\u001b[49m\u001b[43m(\u001b[49m\u001b[43mX_train\u001b[49m\u001b[43m,\u001b[49m\u001b[43m \u001b[49m\u001b[43my_train\u001b[49m\u001b[43m,\u001b[49m\u001b[43m \u001b[49m\u001b[43mX_valid\u001b[49m\u001b[43m,\u001b[49m\u001b[43m \u001b[49m\u001b[43my_valid\u001b[49m\u001b[43m)\u001b[49m\n\u001b[32m      3\u001b[39m best_classifacation_classes=estimators[estimators_name.index(result_serching.iloc[\u001b[32m0\u001b[39m][\u001b[33m'\u001b[39m\u001b[33mmodel\u001b[39m\u001b[33m'\u001b[39m])]\n\u001b[32m      4\u001b[39m params=result_serching.iloc[\u001b[32m0\u001b[39m][\u001b[33m'\u001b[39m\u001b[33mparams\u001b[39m\u001b[33m'\u001b[39m]\n",
      "\u001b[36mCell\u001b[39m\u001b[36m \u001b[39m\u001b[32mIn[77]\u001b[39m\u001b[32m, line 56\u001b[39m, in \u001b[36mModelSelection.choose\u001b[39m\u001b[34m(self, X_train, y_train, X_valid, y_valid, cv)\u001b[39m\n\u001b[32m     54\u001b[39m \u001b[38;5;28;01mfor\u001b[39;00m estimator \u001b[38;5;129;01min\u001b[39;00m \u001b[38;5;28mself\u001b[39m.estimators:\n\u001b[32m     55\u001b[39m     model_name= \u001b[38;5;28mself\u001b[39m.estimators_name[\u001b[38;5;28mself\u001b[39m.estimators.index(estimator)]\n\u001b[32m---> \u001b[39m\u001b[32m56\u001b[39m     search_res=\u001b[43mmanual_grid_search\u001b[49m\u001b[43m(\u001b[49m\u001b[43mX_train\u001b[49m\u001b[43m,\u001b[49m\u001b[43my_train\u001b[49m\u001b[43m,\u001b[49m\u001b[43mX_valid\u001b[49m\u001b[43m,\u001b[49m\u001b[43m \u001b[49m\u001b[43my_valid\u001b[49m\u001b[43m,\u001b[49m\u001b[43mestimator\u001b[49m\u001b[43m,\u001b[49m\u001b[38;5;28;43mself\u001b[39;49m\u001b[43m.\u001b[49m\u001b[43mgrid_dict\u001b[49m\u001b[43m[\u001b[49m\u001b[43mmodel_name\u001b[49m\u001b[43m]\u001b[49m\u001b[43m,\u001b[49m\u001b[43m \u001b[49m\u001b[43mcv\u001b[49m\u001b[43m=\u001b[49m\u001b[43mcv\u001b[49m\u001b[43m,\u001b[49m\u001b[43m \u001b[49m\u001b[43mscoring\u001b[49m\u001b[43m=\u001b[49m\u001b[38;5;28;43mself\u001b[39;49m\u001b[43m.\u001b[49m\u001b[43mscoring\u001b[49m\u001b[43m)\u001b[49m\n\u001b[32m     57\u001b[39m     search_res[\u001b[33m'\u001b[39m\u001b[33mmodel\u001b[39m\u001b[33m'\u001b[39m]=model_name\n\u001b[32m     58\u001b[39m     best_params = search_res.head(\u001b[32m1\u001b[39m)[\u001b[33m'\u001b[39m\u001b[33mparams\u001b[39m\u001b[33m'\u001b[39m].item()\n",
      "\u001b[36mCell\u001b[39m\u001b[36m \u001b[39m\u001b[32mIn[77]\u001b[39m\u001b[32m, line 20\u001b[39m, in \u001b[36mmanual_grid_search\u001b[39m\u001b[34m(X_train, y_train, X_valid, y_valid, model_estimator, param_grid, cv, scoring, n_jobs, error_score)\u001b[39m\n\u001b[32m     15\u001b[39m \u001b[38;5;28;01mtry\u001b[39;00m:\n\u001b[32m     16\u001b[39m     score=cross_val_score(\n\u001b[32m     17\u001b[39m         current_model, X_train, y_train, cv=cv, scoring=scoring, n_jobs=n_jobs,error_score=error_score\n\u001b[32m     18\u001b[39m     )\n\u001b[32m---> \u001b[39m\u001b[32m20\u001b[39m     \u001b[43mcurrent_model\u001b[49m\u001b[43m.\u001b[49m\u001b[43mfit\u001b[49m\u001b[43m(\u001b[49m\u001b[43mX_train\u001b[49m\u001b[43m,\u001b[49m\u001b[43m \u001b[49m\u001b[43my_train\u001b[49m\u001b[43m)\u001b[49m\n\u001b[32m     21\u001b[39m     valid_score=scorer(current_model, X_valid, y_valid)\n\u001b[32m     23\u001b[39m     res.append({\n\u001b[32m     24\u001b[39m         \u001b[33m'\u001b[39m\u001b[33mtrain_score\u001b[39m\u001b[33m'\u001b[39m: score.mean(),\n\u001b[32m     25\u001b[39m         \u001b[33m'\u001b[39m\u001b[33mvalid_score\u001b[39m\u001b[33m'\u001b[39m: valid_score,\n\u001b[32m     26\u001b[39m         \u001b[33m'\u001b[39m\u001b[33mparams\u001b[39m\u001b[33m'\u001b[39m: \u001b[38;5;28mdict\u001b[39m(\u001b[38;5;28mzip\u001b[39m(param_grid.keys(), params))\n\u001b[32m     27\u001b[39m     })\n",
      "\u001b[36mFile \u001b[39m\u001b[32m~/projects/school21/DS_Bootcamp.Team01.ID_886525-Team_TL_shirledo.396ad497_d1b1_4d29-1/src/venv/lib/python3.12/site-packages/sklearn/base.py:1389\u001b[39m, in \u001b[36m_fit_context.<locals>.decorator.<locals>.wrapper\u001b[39m\u001b[34m(estimator, *args, **kwargs)\u001b[39m\n\u001b[32m   1382\u001b[39m     estimator._validate_params()\n\u001b[32m   1384\u001b[39m \u001b[38;5;28;01mwith\u001b[39;00m config_context(\n\u001b[32m   1385\u001b[39m     skip_parameter_validation=(\n\u001b[32m   1386\u001b[39m         prefer_skip_nested_validation \u001b[38;5;129;01mor\u001b[39;00m global_skip_validation\n\u001b[32m   1387\u001b[39m     )\n\u001b[32m   1388\u001b[39m ):\n\u001b[32m-> \u001b[39m\u001b[32m1389\u001b[39m     \u001b[38;5;28;01mreturn\u001b[39;00m \u001b[43mfit_method\u001b[49m\u001b[43m(\u001b[49m\u001b[43mestimator\u001b[49m\u001b[43m,\u001b[49m\u001b[43m \u001b[49m\u001b[43m*\u001b[49m\u001b[43margs\u001b[49m\u001b[43m,\u001b[49m\u001b[43m \u001b[49m\u001b[43m*\u001b[49m\u001b[43m*\u001b[49m\u001b[43mkwargs\u001b[49m\u001b[43m)\u001b[49m\n",
      "\u001b[36mFile \u001b[39m\u001b[32m~/projects/school21/DS_Bootcamp.Team01.ID_886525-Team_TL_shirledo.396ad497_d1b1_4d29-1/src/venv/lib/python3.12/site-packages/sklearn/ensemble/_forest.py:487\u001b[39m, in \u001b[36mBaseForest.fit\u001b[39m\u001b[34m(self, X, y, sample_weight)\u001b[39m\n\u001b[32m    476\u001b[39m trees = [\n\u001b[32m    477\u001b[39m     \u001b[38;5;28mself\u001b[39m._make_estimator(append=\u001b[38;5;28;01mFalse\u001b[39;00m, random_state=random_state)\n\u001b[32m    478\u001b[39m     \u001b[38;5;28;01mfor\u001b[39;00m i \u001b[38;5;129;01min\u001b[39;00m \u001b[38;5;28mrange\u001b[39m(n_more_estimators)\n\u001b[32m    479\u001b[39m ]\n\u001b[32m    481\u001b[39m \u001b[38;5;66;03m# Parallel loop: we prefer the threading backend as the Cython code\u001b[39;00m\n\u001b[32m    482\u001b[39m \u001b[38;5;66;03m# for fitting the trees is internally releasing the Python GIL\u001b[39;00m\n\u001b[32m    483\u001b[39m \u001b[38;5;66;03m# making threading more efficient than multiprocessing in\u001b[39;00m\n\u001b[32m    484\u001b[39m \u001b[38;5;66;03m# that case. However, for joblib 0.12+ we respect any\u001b[39;00m\n\u001b[32m    485\u001b[39m \u001b[38;5;66;03m# parallel_backend contexts set at a higher level,\u001b[39;00m\n\u001b[32m    486\u001b[39m \u001b[38;5;66;03m# since correctness does not rely on using threads.\u001b[39;00m\n\u001b[32m--> \u001b[39m\u001b[32m487\u001b[39m trees = \u001b[43mParallel\u001b[49m\u001b[43m(\u001b[49m\n\u001b[32m    488\u001b[39m \u001b[43m    \u001b[49m\u001b[43mn_jobs\u001b[49m\u001b[43m=\u001b[49m\u001b[38;5;28;43mself\u001b[39;49m\u001b[43m.\u001b[49m\u001b[43mn_jobs\u001b[49m\u001b[43m,\u001b[49m\n\u001b[32m    489\u001b[39m \u001b[43m    \u001b[49m\u001b[43mverbose\u001b[49m\u001b[43m=\u001b[49m\u001b[38;5;28;43mself\u001b[39;49m\u001b[43m.\u001b[49m\u001b[43mverbose\u001b[49m\u001b[43m,\u001b[49m\n\u001b[32m    490\u001b[39m \u001b[43m    \u001b[49m\u001b[43mprefer\u001b[49m\u001b[43m=\u001b[49m\u001b[33;43m\"\u001b[39;49m\u001b[33;43mthreads\u001b[39;49m\u001b[33;43m\"\u001b[39;49m\u001b[43m,\u001b[49m\n\u001b[32m    491\u001b[39m \u001b[43m\u001b[49m\u001b[43m)\u001b[49m\u001b[43m(\u001b[49m\n\u001b[32m    492\u001b[39m \u001b[43m    \u001b[49m\u001b[43mdelayed\u001b[49m\u001b[43m(\u001b[49m\u001b[43m_parallel_build_trees\u001b[49m\u001b[43m)\u001b[49m\u001b[43m(\u001b[49m\n\u001b[32m    493\u001b[39m \u001b[43m        \u001b[49m\u001b[43mt\u001b[49m\u001b[43m,\u001b[49m\n\u001b[32m    494\u001b[39m \u001b[43m        \u001b[49m\u001b[38;5;28;43mself\u001b[39;49m\u001b[43m.\u001b[49m\u001b[43mbootstrap\u001b[49m\u001b[43m,\u001b[49m\n\u001b[32m    495\u001b[39m \u001b[43m        \u001b[49m\u001b[43mX\u001b[49m\u001b[43m,\u001b[49m\n\u001b[32m    496\u001b[39m \u001b[43m        \u001b[49m\u001b[43my\u001b[49m\u001b[43m,\u001b[49m\n\u001b[32m    497\u001b[39m \u001b[43m        \u001b[49m\u001b[43msample_weight\u001b[49m\u001b[43m,\u001b[49m\n\u001b[32m    498\u001b[39m \u001b[43m        \u001b[49m\u001b[43mi\u001b[49m\u001b[43m,\u001b[49m\n\u001b[32m    499\u001b[39m \u001b[43m        \u001b[49m\u001b[38;5;28;43mlen\u001b[39;49m\u001b[43m(\u001b[49m\u001b[43mtrees\u001b[49m\u001b[43m)\u001b[49m\u001b[43m,\u001b[49m\n\u001b[32m    500\u001b[39m \u001b[43m        \u001b[49m\u001b[43mverbose\u001b[49m\u001b[43m=\u001b[49m\u001b[38;5;28;43mself\u001b[39;49m\u001b[43m.\u001b[49m\u001b[43mverbose\u001b[49m\u001b[43m,\u001b[49m\n\u001b[32m    501\u001b[39m \u001b[43m        \u001b[49m\u001b[43mclass_weight\u001b[49m\u001b[43m=\u001b[49m\u001b[38;5;28;43mself\u001b[39;49m\u001b[43m.\u001b[49m\u001b[43mclass_weight\u001b[49m\u001b[43m,\u001b[49m\n\u001b[32m    502\u001b[39m \u001b[43m        \u001b[49m\u001b[43mn_samples_bootstrap\u001b[49m\u001b[43m=\u001b[49m\u001b[43mn_samples_bootstrap\u001b[49m\u001b[43m,\u001b[49m\n\u001b[32m    503\u001b[39m \u001b[43m        \u001b[49m\u001b[43mmissing_values_in_feature_mask\u001b[49m\u001b[43m=\u001b[49m\u001b[43mmissing_values_in_feature_mask\u001b[49m\u001b[43m,\u001b[49m\n\u001b[32m    504\u001b[39m \u001b[43m    \u001b[49m\u001b[43m)\u001b[49m\n\u001b[32m    505\u001b[39m \u001b[43m    \u001b[49m\u001b[38;5;28;43;01mfor\u001b[39;49;00m\u001b[43m \u001b[49m\u001b[43mi\u001b[49m\u001b[43m,\u001b[49m\u001b[43m \u001b[49m\u001b[43mt\u001b[49m\u001b[43m \u001b[49m\u001b[38;5;129;43;01min\u001b[39;49;00m\u001b[43m \u001b[49m\u001b[38;5;28;43menumerate\u001b[39;49m\u001b[43m(\u001b[49m\u001b[43mtrees\u001b[49m\u001b[43m)\u001b[49m\n\u001b[32m    506\u001b[39m \u001b[43m\u001b[49m\u001b[43m)\u001b[49m\n\u001b[32m    508\u001b[39m \u001b[38;5;66;03m# Collect newly grown trees\u001b[39;00m\n\u001b[32m    509\u001b[39m \u001b[38;5;28mself\u001b[39m.estimators_.extend(trees)\n",
      "\u001b[36mFile \u001b[39m\u001b[32m~/projects/school21/DS_Bootcamp.Team01.ID_886525-Team_TL_shirledo.396ad497_d1b1_4d29-1/src/venv/lib/python3.12/site-packages/sklearn/utils/parallel.py:77\u001b[39m, in \u001b[36mParallel.__call__\u001b[39m\u001b[34m(self, iterable)\u001b[39m\n\u001b[32m     72\u001b[39m config = get_config()\n\u001b[32m     73\u001b[39m iterable_with_config = (\n\u001b[32m     74\u001b[39m     (_with_config(delayed_func, config), args, kwargs)\n\u001b[32m     75\u001b[39m     \u001b[38;5;28;01mfor\u001b[39;00m delayed_func, args, kwargs \u001b[38;5;129;01min\u001b[39;00m iterable\n\u001b[32m     76\u001b[39m )\n\u001b[32m---> \u001b[39m\u001b[32m77\u001b[39m \u001b[38;5;28;01mreturn\u001b[39;00m \u001b[38;5;28;43msuper\u001b[39;49m\u001b[43m(\u001b[49m\u001b[43m)\u001b[49m\u001b[43m.\u001b[49m\u001b[34;43m__call__\u001b[39;49m\u001b[43m(\u001b[49m\u001b[43miterable_with_config\u001b[49m\u001b[43m)\u001b[49m\n",
      "\u001b[36mFile \u001b[39m\u001b[32m~/projects/school21/DS_Bootcamp.Team01.ID_886525-Team_TL_shirledo.396ad497_d1b1_4d29-1/src/venv/lib/python3.12/site-packages/joblib/parallel.py:2007\u001b[39m, in \u001b[36mParallel.__call__\u001b[39m\u001b[34m(self, iterable)\u001b[39m\n\u001b[32m   2001\u001b[39m \u001b[38;5;66;03m# The first item from the output is blank, but it makes the interpreter\u001b[39;00m\n\u001b[32m   2002\u001b[39m \u001b[38;5;66;03m# progress until it enters the Try/Except block of the generator and\u001b[39;00m\n\u001b[32m   2003\u001b[39m \u001b[38;5;66;03m# reaches the first `yield` statement. This starts the asynchronous\u001b[39;00m\n\u001b[32m   2004\u001b[39m \u001b[38;5;66;03m# dispatch of the tasks to the workers.\u001b[39;00m\n\u001b[32m   2005\u001b[39m \u001b[38;5;28mnext\u001b[39m(output)\n\u001b[32m-> \u001b[39m\u001b[32m2007\u001b[39m \u001b[38;5;28;01mreturn\u001b[39;00m output \u001b[38;5;28;01mif\u001b[39;00m \u001b[38;5;28mself\u001b[39m.return_generator \u001b[38;5;28;01melse\u001b[39;00m \u001b[38;5;28;43mlist\u001b[39;49m\u001b[43m(\u001b[49m\u001b[43moutput\u001b[49m\u001b[43m)\u001b[49m\n",
      "\u001b[36mFile \u001b[39m\u001b[32m~/projects/school21/DS_Bootcamp.Team01.ID_886525-Team_TL_shirledo.396ad497_d1b1_4d29-1/src/venv/lib/python3.12/site-packages/joblib/parallel.py:1650\u001b[39m, in \u001b[36mParallel._get_outputs\u001b[39m\u001b[34m(self, iterator, pre_dispatch)\u001b[39m\n\u001b[32m   1647\u001b[39m     \u001b[38;5;28;01myield\u001b[39;00m\n\u001b[32m   1649\u001b[39m     \u001b[38;5;28;01mwith\u001b[39;00m \u001b[38;5;28mself\u001b[39m._backend.retrieval_context():\n\u001b[32m-> \u001b[39m\u001b[32m1650\u001b[39m         \u001b[38;5;28;01myield from\u001b[39;00m \u001b[38;5;28mself\u001b[39m._retrieve()\n\u001b[32m   1652\u001b[39m \u001b[38;5;28;01mexcept\u001b[39;00m \u001b[38;5;167;01mGeneratorExit\u001b[39;00m:\n\u001b[32m   1653\u001b[39m     \u001b[38;5;66;03m# The generator has been garbage collected before being fully\u001b[39;00m\n\u001b[32m   1654\u001b[39m     \u001b[38;5;66;03m# consumed. This aborts the remaining tasks if possible and warn\u001b[39;00m\n\u001b[32m   1655\u001b[39m     \u001b[38;5;66;03m# the user if necessary.\u001b[39;00m\n\u001b[32m   1656\u001b[39m     \u001b[38;5;28mself\u001b[39m._exception = \u001b[38;5;28;01mTrue\u001b[39;00m\n",
      "\u001b[36mFile \u001b[39m\u001b[32m~/projects/school21/DS_Bootcamp.Team01.ID_886525-Team_TL_shirledo.396ad497_d1b1_4d29-1/src/venv/lib/python3.12/site-packages/joblib/parallel.py:1762\u001b[39m, in \u001b[36mParallel._retrieve\u001b[39m\u001b[34m(self)\u001b[39m\n\u001b[32m   1757\u001b[39m \u001b[38;5;66;03m# If the next job is not ready for retrieval yet, we just wait for\u001b[39;00m\n\u001b[32m   1758\u001b[39m \u001b[38;5;66;03m# async callbacks to progress.\u001b[39;00m\n\u001b[32m   1759\u001b[39m \u001b[38;5;28;01mif\u001b[39;00m ((\u001b[38;5;28mlen\u001b[39m(\u001b[38;5;28mself\u001b[39m._jobs) == \u001b[32m0\u001b[39m) \u001b[38;5;129;01mor\u001b[39;00m\n\u001b[32m   1760\u001b[39m     (\u001b[38;5;28mself\u001b[39m._jobs[\u001b[32m0\u001b[39m].get_status(\n\u001b[32m   1761\u001b[39m         timeout=\u001b[38;5;28mself\u001b[39m.timeout) == TASK_PENDING)):\n\u001b[32m-> \u001b[39m\u001b[32m1762\u001b[39m     \u001b[43mtime\u001b[49m\u001b[43m.\u001b[49m\u001b[43msleep\u001b[49m\u001b[43m(\u001b[49m\u001b[32;43m0.01\u001b[39;49m\u001b[43m)\u001b[49m\n\u001b[32m   1763\u001b[39m     \u001b[38;5;28;01mcontinue\u001b[39;00m\n\u001b[32m   1765\u001b[39m \u001b[38;5;66;03m# We need to be careful: the job list can be filling up as\u001b[39;00m\n\u001b[32m   1766\u001b[39m \u001b[38;5;66;03m# we empty it and Python list are not thread-safe by\u001b[39;00m\n\u001b[32m   1767\u001b[39m \u001b[38;5;66;03m# default hence the use of the lock\u001b[39;00m\n",
      "\u001b[31mKeyboardInterrupt\u001b[39m: "
     ]
    }
   ],
   "source": [
    "search_parametrs= ModelSelection(estimators,estimators_name, grid_dict, scoring='precision_weighted')\n",
    "result_serching=search_parametrs.choose(X_train, y_train, X_valid, y_valid)\n",
    "best_classifaer=estimators[estimators_name.index(result_serching.iloc[0]['model'])]\n",
    "params=result_serching.iloc[0]['params']\n",
    "fit_score(best_classifacation_classes, params, X_comb,y_comb, X_test,y_test, scoring=\"accuracy\")\n",
    "calc_scores(estimators, estimators_name, result_serching.head(8), scorings)\n"
   ]
  },
  {
   "cell_type": "markdown",
   "id": "1fbd2685",
   "metadata": {},
   "source": [
    "let's save the best model"
   ]
  },
  {
   "cell_type": "code",
   "execution_count": null,
   "id": "e3182c55",
   "metadata": {},
   "outputs": [],
   "source": [
    "X_full=pd.concat([X_comb, X_train], axis=0, ignore_index=True)\n",
    "y_full=pd.concat([y_comb, pd.DataFrame(y_train)], axis=0, ignore_index=True)\n",
    "\n",
    "best_classifaer=estimators[estimators_name.index(result_serching.iloc[0]['model'])]\n",
    "params=result_serching.iloc[0]['params']\n",
    "best_classifaer.set_params(**params)\n",
    "\n",
    "best_classifaer.fit(X_full,y_full)\n",
    "import joblib\n",
    "joblib.dump(best_classifaer,'best_classifacation_model.pkl')"
   ]
  }
 ],
 "metadata": {
  "kernelspec": {
   "display_name": "my_venv",
   "language": "python",
   "name": "my_venv"
  },
  "language_info": {
   "codemirror_mode": {
    "name": "ipython",
    "version": 3
   },
   "file_extension": ".py",
   "mimetype": "text/x-python",
   "name": "python",
   "nbconvert_exporter": "python",
   "pygments_lexer": "ipython3",
   "version": "3.12.3"
  }
 },
 "nbformat": 4,
 "nbformat_minor": 5
}
